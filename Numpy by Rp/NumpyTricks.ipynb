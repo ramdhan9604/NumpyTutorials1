{
 "cells": [
  {
   "cell_type": "markdown",
   "id": "22edd270-f803-4770-a4b0-0c92a674b987",
   "metadata": {},
   "source": [
    "# np.sort"
   ]
  },
  {
   "cell_type": "markdown",
   "id": "1cd85a49-1cd3-447f-bdfa-e637b9811d6e",
   "metadata": {},
   "source": [
    "Return a sorted copy of an array.\r\n",
    "\r\n",
    "https://numpy.org/doc/stable/reference/generated/numpy.sort.html"
   ]
  },
  {
   "cell_type": "code",
   "execution_count": 1,
   "id": "2d82a52e-c2e3-4067-b596-7e3a97d7a0bf",
   "metadata": {},
   "outputs": [],
   "source": [
    "import numpy as np"
   ]
  },
  {
   "cell_type": "code",
   "execution_count": 2,
   "id": "b4e46f2c-6df5-4d6c-afc4-24489a0e4e34",
   "metadata": {},
   "outputs": [
    {
     "data": {
      "text/plain": [
       "array([95, 38,  7, 17, 56, 17, 27, 96, 64, 26, 49, 41, 89, 10, 54])"
      ]
     },
     "execution_count": 2,
     "metadata": {},
     "output_type": "execute_result"
    }
   ],
   "source": [
    "a = np.random.randint(1,100,15)\n",
    "a"
   ]
  },
  {
   "cell_type": "code",
   "execution_count": 3,
   "id": "6ee57ca2-2829-40b2-9cf8-0b8cae81d804",
   "metadata": {},
   "outputs": [
    {
     "data": {
      "text/plain": [
       "array([ 7, 10, 17, 17, 26, 27, 38, 41, 49, 54, 56, 64, 89, 95, 96])"
      ]
     },
     "execution_count": 3,
     "metadata": {},
     "output_type": "execute_result"
    }
   ],
   "source": [
    "np.sort(a)"
   ]
  },
  {
   "cell_type": "code",
   "execution_count": 4,
   "id": "64d3953f-d65f-443c-8c16-543d87a62447",
   "metadata": {},
   "outputs": [],
   "source": [
    "b = np.random.randint(1,100,24).reshape(6,4)"
   ]
  },
  {
   "cell_type": "code",
   "execution_count": 5,
   "id": "cf98236b-ae9f-4bf7-b062-a8487753f3f4",
   "metadata": {},
   "outputs": [
    {
     "data": {
      "text/plain": [
       "array([[41, 61, 91, 21],\n",
       "       [82, 46, 62, 28],\n",
       "       [70, 72, 99, 60],\n",
       "       [79, 30, 68, 57],\n",
       "       [81, 74,  8, 38],\n",
       "       [71, 11, 40, 63]])"
      ]
     },
     "execution_count": 5,
     "metadata": {},
     "output_type": "execute_result"
    }
   ],
   "source": [
    "b"
   ]
  },
  {
   "cell_type": "markdown",
   "id": "74266b33-9e69-4596-96b7-e30bd2064b03",
   "metadata": {},
   "source": [
    "np.sort(b) # It gives sorting element row wise"
   ]
  },
  {
   "cell_type": "code",
   "execution_count": 9,
   "id": "83711666-6574-457e-b3de-496ad3e2eaf6",
   "metadata": {},
   "outputs": [
    {
     "data": {
      "text/plain": [
       "array([[41, 11,  8, 21],\n",
       "       [70, 30, 40, 28],\n",
       "       [71, 46, 62, 38],\n",
       "       [79, 61, 68, 57],\n",
       "       [81, 72, 91, 60],\n",
       "       [82, 74, 99, 63]])"
      ]
     },
     "execution_count": 9,
     "metadata": {},
     "output_type": "execute_result"
    }
   ],
   "source": [
    "np.sort(b,axis=0)       # axis=0 for column and axis=1 for raws"
   ]
  },
  {
   "cell_type": "code",
   "execution_count": 10,
   "id": "4efdba27-b91e-4532-a976-09d05c9118d9",
   "metadata": {},
   "outputs": [
    {
     "data": {
      "text/plain": [
       "array([96, 95, 89, 64, 56, 54, 49, 41, 38, 27, 26, 17, 17, 10,  7])"
      ]
     },
     "execution_count": 10,
     "metadata": {},
     "output_type": "execute_result"
    }
   ],
   "source": [
    "np.sort(a)[::-1]"
   ]
  },
  {
   "cell_type": "markdown",
   "id": "3b22f497-61ed-460b-acb5-fa19f83027ae",
   "metadata": {},
   "source": [
    "# np.append()"
   ]
  },
  {
   "cell_type": "markdown",
   "id": "5a121255-4615-49d9-903b-58f1f999974f",
   "metadata": {},
   "source": [
    "The numpy.append() appends values along the mentioned axis at the end of the array\r\n",
    "\r\n",
    "https://numpy.org/doc/stable/reference/generated/numpy.append.html"
   ]
  },
  {
   "cell_type": "code",
   "execution_count": 12,
   "id": "5e058cdc-1b7c-4f1c-8ef4-3f18ec97b0de",
   "metadata": {},
   "outputs": [
    {
     "data": {
      "text/plain": [
       "array([95, 38,  7, 17, 56, 17, 27, 96, 64, 26, 49, 41, 89, 10, 54])"
      ]
     },
     "execution_count": 12,
     "metadata": {},
     "output_type": "execute_result"
    }
   ],
   "source": [
    "a"
   ]
  },
  {
   "cell_type": "code",
   "execution_count": 13,
   "id": "84df1610-dc8d-4ad7-b2b0-fce3478552b1",
   "metadata": {},
   "outputs": [
    {
     "data": {
      "text/plain": [
       "array([ 95,  38,   7,  17,  56,  17,  27,  96,  64,  26,  49,  41,  89,\n",
       "        10,  54, 100])"
      ]
     },
     "execution_count": 13,
     "metadata": {},
     "output_type": "execute_result"
    }
   ],
   "source": [
    "np.append(a,100)"
   ]
  },
  {
   "cell_type": "code",
   "execution_count": 14,
   "id": "874703b9-d7f9-4725-88a1-0793c65a1f62",
   "metadata": {},
   "outputs": [
    {
     "data": {
      "text/plain": [
       "array([[41, 61, 91, 21],\n",
       "       [82, 46, 62, 28],\n",
       "       [70, 72, 99, 60],\n",
       "       [79, 30, 68, 57],\n",
       "       [81, 74,  8, 38],\n",
       "       [71, 11, 40, 63]])"
      ]
     },
     "execution_count": 14,
     "metadata": {},
     "output_type": "execute_result"
    }
   ],
   "source": [
    "b"
   ]
  },
  {
   "cell_type": "code",
   "execution_count": 16,
   "id": "bdec2990-4702-4272-9e6c-671da44844af",
   "metadata": {},
   "outputs": [
    {
     "data": {
      "text/plain": [
       "array([[41., 61., 91., 21.,  1.],\n",
       "       [82., 46., 62., 28.,  1.],\n",
       "       [70., 72., 99., 60.,  1.],\n",
       "       [79., 30., 68., 57.,  1.],\n",
       "       [81., 74.,  8., 38.,  1.],\n",
       "       [71., 11., 40., 63.,  1.]])"
      ]
     },
     "execution_count": 16,
     "metadata": {},
     "output_type": "execute_result"
    }
   ],
   "source": [
    "np.append(b,np.ones((b.shape[0],1)),axis=1)"
   ]
  },
  {
   "cell_type": "code",
   "execution_count": 17,
   "id": "fdac5f34-5b81-4b82-9810-5196417d4a3a",
   "metadata": {},
   "outputs": [
    {
     "data": {
      "text/plain": [
       "array([[41.        , 61.        , 91.        , 21.        ,  0.83225206],\n",
       "       [82.        , 46.        , 62.        , 28.        ,  0.26615457],\n",
       "       [70.        , 72.        , 99.        , 60.        ,  0.83517895],\n",
       "       [79.        , 30.        , 68.        , 57.        ,  0.59303229],\n",
       "       [81.        , 74.        ,  8.        , 38.        ,  0.5814236 ],\n",
       "       [71.        , 11.        , 40.        , 63.        ,  0.96184059]])"
      ]
     },
     "execution_count": 17,
     "metadata": {},
     "output_type": "execute_result"
    }
   ],
   "source": [
    "np.append(b,np.random.random((b.shape[0],1)),axis=1)"
   ]
  },
  {
   "cell_type": "markdown",
   "id": "2de2fa1a-2813-4982-a231-ccdbfeff14e3",
   "metadata": {},
   "source": [
    "# np.concatenate"
   ]
  },
  {
   "cell_type": "markdown",
   "id": "204dc1a1-f0db-4994-bccf-f48fe8291116",
   "metadata": {},
   "source": [
    "numpy.concatenate() function concatenate a sequence of arrays along an existing axis.\n",
    "\n",
    "https://numpy.org/doc/stable/reference/generated/numpy.concatenate.html"
   ]
  },
  {
   "cell_type": "code",
   "execution_count": 18,
   "id": "e6c9f429-46e6-4c7b-bf02-e123eadb5b90",
   "metadata": {},
   "outputs": [],
   "source": [
    "c = np.arange(6).reshape(2,3)\n",
    "d = np.arange(6,12).reshape(2,3)"
   ]
  },
  {
   "cell_type": "code",
   "execution_count": 19,
   "id": "3b32857a-16c9-4034-83a3-487fe6008cb9",
   "metadata": {},
   "outputs": [
    {
     "data": {
      "text/plain": [
       "array([[0, 1, 2],\n",
       "       [3, 4, 5]])"
      ]
     },
     "execution_count": 19,
     "metadata": {},
     "output_type": "execute_result"
    }
   ],
   "source": [
    "c"
   ]
  },
  {
   "cell_type": "code",
   "execution_count": 20,
   "id": "cdd52833-3ef3-4c71-8547-52b5315ae5f8",
   "metadata": {},
   "outputs": [
    {
     "data": {
      "text/plain": [
       "array([[ 6,  7,  8],\n",
       "       [ 9, 10, 11]])"
      ]
     },
     "execution_count": 20,
     "metadata": {},
     "output_type": "execute_result"
    }
   ],
   "source": [
    "d"
   ]
  },
  {
   "cell_type": "code",
   "execution_count": 21,
   "id": "190c0144-33b2-418b-9c42-06d023cd88cc",
   "metadata": {},
   "outputs": [
    {
     "data": {
      "text/plain": [
       "array([[ 0,  1,  2],\n",
       "       [ 3,  4,  5],\n",
       "       [ 6,  7,  8],\n",
       "       [ 9, 10, 11]])"
      ]
     },
     "execution_count": 21,
     "metadata": {},
     "output_type": "execute_result"
    }
   ],
   "source": [
    "np.concatenate((c,d),axis=0)"
   ]
  },
  {
   "cell_type": "code",
   "execution_count": 22,
   "id": "d9a7f79e-bfe8-4956-a399-29131e5ef5c3",
   "metadata": {},
   "outputs": [
    {
     "data": {
      "text/plain": [
       "array([[ 0,  1,  2,  6,  7,  8],\n",
       "       [ 3,  4,  5,  9, 10, 11]])"
      ]
     },
     "execution_count": 22,
     "metadata": {},
     "output_type": "execute_result"
    }
   ],
   "source": [
    "np.concatenate((c,d),axis=1)"
   ]
  },
  {
   "cell_type": "markdown",
   "id": "b135b1eb-ab6f-45b8-9947-69297569ad4e",
   "metadata": {},
   "source": [
    "# np.unique"
   ]
  },
  {
   "cell_type": "markdown",
   "id": "47f89686-110b-43db-9f11-8c65dcac865b",
   "metadata": {},
   "source": [
    "With the help of np.unique() method, we can get the unique values from an array given as parameter in np.unique() method.\n",
    "\n",
    "https://numpy.org/doc/stable/reference/generated/numpy.unique.html/"
   ]
  },
  {
   "cell_type": "code",
   "execution_count": 23,
   "id": "441c826b-34a4-4f71-8d0b-ed9a26bf716b",
   "metadata": {},
   "outputs": [
    {
     "data": {
      "text/plain": [
       "array([1, 1, 2, 2, 3, 3, 4, 4, 5, 5, 6, 6])"
      ]
     },
     "execution_count": 23,
     "metadata": {},
     "output_type": "execute_result"
    }
   ],
   "source": [
    "e = np.array([1,1,2,2,3,3,4,4,5,5,6,6])\n",
    "e"
   ]
  },
  {
   "cell_type": "code",
   "execution_count": 24,
   "id": "1d2eb423-b7b0-42a7-8c4a-1ffc15179be3",
   "metadata": {},
   "outputs": [
    {
     "data": {
      "text/plain": [
       "array([1, 2, 3, 4, 5, 6])"
      ]
     },
     "execution_count": 24,
     "metadata": {},
     "output_type": "execute_result"
    }
   ],
   "source": [
    "np.unique(e)"
   ]
  },
  {
   "cell_type": "markdown",
   "id": "be06a4e3-d490-430d-9c59-6302343071ea",
   "metadata": {},
   "source": [
    "# np.expand_dims"
   ]
  },
  {
   "cell_type": "markdown",
   "id": "1340e235-e4fe-42f0-8aab-e2ab1f39161e",
   "metadata": {},
   "source": [
    "With the help of Numpy.expand_dims() method, we can get the expanded dimensions of an array\n",
    "\n",
    "https://numpy.org/doc/stable/reference/generated/numpy.expand_dims.html"
   ]
  },
  {
   "cell_type": "code",
   "execution_count": 25,
   "id": "c5a9a6df-7a0d-4b1d-b375-1074c7a23441",
   "metadata": {},
   "outputs": [
    {
     "data": {
      "text/plain": [
       "array([95, 38,  7, 17, 56, 17, 27, 96, 64, 26, 49, 41, 89, 10, 54])"
      ]
     },
     "execution_count": 25,
     "metadata": {},
     "output_type": "execute_result"
    }
   ],
   "source": [
    "a"
   ]
  },
  {
   "cell_type": "code",
   "execution_count": 26,
   "id": "b88b42dd-1729-4ced-9b57-582baba4a58b",
   "metadata": {},
   "outputs": [
    {
     "data": {
      "text/plain": [
       "(15,)"
      ]
     },
     "execution_count": 26,
     "metadata": {},
     "output_type": "execute_result"
    }
   ],
   "source": [
    "np.shape(a)"
   ]
  },
  {
   "cell_type": "code",
   "execution_count": 27,
   "id": "08b0eee0-4217-4cf7-9b6f-6d613674ad9f",
   "metadata": {},
   "outputs": [
    {
     "data": {
      "text/plain": [
       "array([[95, 38,  7, 17, 56, 17, 27, 96, 64, 26, 49, 41, 89, 10, 54]])"
      ]
     },
     "execution_count": 27,
     "metadata": {},
     "output_type": "execute_result"
    }
   ],
   "source": [
    "np.expand_dims(a,axis=0)"
   ]
  },
  {
   "cell_type": "code",
   "execution_count": 28,
   "id": "36a8b2c5-0382-4002-a135-71c47b814af8",
   "metadata": {},
   "outputs": [
    {
     "data": {
      "text/plain": [
       "(1, 15)"
      ]
     },
     "execution_count": 28,
     "metadata": {},
     "output_type": "execute_result"
    }
   ],
   "source": [
    "np.shape(np.expand_dims(a,axis=0))"
   ]
  },
  {
   "cell_type": "code",
   "execution_count": 29,
   "id": "8a81972d-83ec-4b22-921b-b23caae9d468",
   "metadata": {},
   "outputs": [
    {
     "data": {
      "text/plain": [
       "array([[95],\n",
       "       [38],\n",
       "       [ 7],\n",
       "       [17],\n",
       "       [56],\n",
       "       [17],\n",
       "       [27],\n",
       "       [96],\n",
       "       [64],\n",
       "       [26],\n",
       "       [49],\n",
       "       [41],\n",
       "       [89],\n",
       "       [10],\n",
       "       [54]])"
      ]
     },
     "execution_count": 29,
     "metadata": {},
     "output_type": "execute_result"
    }
   ],
   "source": [
    "np.expand_dims(a,axis=1)"
   ]
  },
  {
   "cell_type": "code",
   "execution_count": 30,
   "id": "6d5aef9d-b28e-4fdf-bd05-308e10cccff3",
   "metadata": {},
   "outputs": [
    {
     "data": {
      "text/plain": [
       "(15, 1)"
      ]
     },
     "execution_count": 30,
     "metadata": {},
     "output_type": "execute_result"
    }
   ],
   "source": [
    "np.expand_dims(a,axis=1).shape"
   ]
  },
  {
   "cell_type": "markdown",
   "id": "528d2d02-2db4-4087-a9e5-4f8936453134",
   "metadata": {},
   "source": [
    "# np.where"
   ]
  },
  {
   "cell_type": "markdown",
   "id": "794b1fad-0d92-4f8b-b336-59deb3d5f621",
   "metadata": {},
   "source": [
    "\n",
    "The numpy.where() function returns the indices of elements in an input array where the given condition is satisfied.\n",
    "\n",
    "https://numpy.org/doc/stable/reference/generated/numpy.where.html"
   ]
  },
  {
   "cell_type": "code",
   "execution_count": 31,
   "id": "9171e7f2-feb4-4de3-8883-d97cb6a96411",
   "metadata": {},
   "outputs": [
    {
     "data": {
      "text/plain": [
       "array([95, 38,  7, 17, 56, 17, 27, 96, 64, 26, 49, 41, 89, 10, 54])"
      ]
     },
     "execution_count": 31,
     "metadata": {},
     "output_type": "execute_result"
    }
   ],
   "source": [
    "a"
   ]
  },
  {
   "cell_type": "code",
   "execution_count": 32,
   "id": "6816a1d2-3bff-46cc-afcc-19456110d8d1",
   "metadata": {},
   "outputs": [
    {
     "data": {
      "text/plain": [
       "(array([ 0,  4,  7,  8, 12, 14], dtype=int64),)"
      ]
     },
     "execution_count": 32,
     "metadata": {},
     "output_type": "execute_result"
    }
   ],
   "source": [
    "# Q. Find all indices with value greater than 50\n",
    "\n",
    "np.where(a>50)"
   ]
  },
  {
   "cell_type": "code",
   "execution_count": 33,
   "id": "8647c7d6-ce0b-4e30-94d8-3709d93ba5c5",
   "metadata": {},
   "outputs": [
    {
     "data": {
      "text/plain": [
       "array([ 0, 38,  7, 17,  0, 17, 27,  0,  0, 26, 49, 41,  0, 10,  0])"
      ]
     },
     "execution_count": 33,
     "metadata": {},
     "output_type": "execute_result"
    }
   ],
   "source": [
    "# Q. Replace all values > 50 with 0\n",
    "\n",
    "#np.where(condition,true,false)\n",
    "\n",
    "np.where(a>50,0,a)"
   ]
  },
  {
   "cell_type": "code",
   "execution_count": 34,
   "id": "b399c7c8-4f8c-42f6-8d52-5ce2caf325d3",
   "metadata": {},
   "outputs": [
    {
     "data": {
      "text/plain": [
       "array([95,  0,  7, 17,  0, 17, 27,  0,  0,  0, 49, 41, 89,  0,  0])"
      ]
     },
     "execution_count": 34,
     "metadata": {},
     "output_type": "execute_result"
    }
   ],
   "source": [
    "np.where(a%2==0,0,a)"
   ]
  },
  {
   "cell_type": "markdown",
   "id": "910db557-edf4-40b6-af06-83f220b90b6e",
   "metadata": {},
   "source": [
    "# np.argmax"
   ]
  },
  {
   "cell_type": "markdown",
   "id": "0cfd22c0-126c-4f8b-8c4c-9543b0ca59f8",
   "metadata": {},
   "source": [
    "\n",
    "The numpy.argmax() function returns indices of the max element of the array in a particular axis.\n",
    "\n",
    "https://numpy.org/doc/stable/reference/generated/numpy.argmax.html"
   ]
  },
  {
   "cell_type": "code",
   "execution_count": 35,
   "id": "edd7f016-2a07-4f6f-b61d-2e234944277d",
   "metadata": {},
   "outputs": [
    {
     "data": {
      "text/plain": [
       "array([95, 38,  7, 17, 56, 17, 27, 96, 64, 26, 49, 41, 89, 10, 54])"
      ]
     },
     "execution_count": 35,
     "metadata": {},
     "output_type": "execute_result"
    }
   ],
   "source": [
    "a"
   ]
  },
  {
   "cell_type": "code",
   "execution_count": 36,
   "id": "e5b30d06-c8d5-4d8a-a434-538576df6ce5",
   "metadata": {},
   "outputs": [
    {
     "data": {
      "text/plain": [
       "7"
      ]
     },
     "execution_count": 36,
     "metadata": {},
     "output_type": "execute_result"
    }
   ],
   "source": [
    "np.argmax(a)"
   ]
  },
  {
   "cell_type": "code",
   "execution_count": 37,
   "id": "05b98931-1864-48b5-8ee5-4d1b6294d5df",
   "metadata": {},
   "outputs": [
    {
     "data": {
      "text/plain": [
       "array([[41, 61, 91, 21],\n",
       "       [82, 46, 62, 28],\n",
       "       [70, 72, 99, 60],\n",
       "       [79, 30, 68, 57],\n",
       "       [81, 74,  8, 38],\n",
       "       [71, 11, 40, 63]])"
      ]
     },
     "execution_count": 37,
     "metadata": {},
     "output_type": "execute_result"
    }
   ],
   "source": [
    "b"
   ]
  },
  {
   "cell_type": "code",
   "execution_count": 38,
   "id": "d2d46c83-77a4-42a0-abb3-3cd1c6bb6070",
   "metadata": {},
   "outputs": [
    {
     "data": {
      "text/plain": [
       "array([1, 4, 2, 5], dtype=int64)"
      ]
     },
     "execution_count": 38,
     "metadata": {},
     "output_type": "execute_result"
    }
   ],
   "source": [
    "np.argmax(b,axis=0)"
   ]
  },
  {
   "cell_type": "code",
   "execution_count": 39,
   "id": "ab7e321e-e8ec-4589-835f-fdaaf1360cfc",
   "metadata": {},
   "outputs": [
    {
     "data": {
      "text/plain": [
       "array([2, 0, 2, 0, 0, 0], dtype=int64)"
      ]
     },
     "execution_count": 39,
     "metadata": {},
     "output_type": "execute_result"
    }
   ],
   "source": [
    "np.argmax(b,axis=1)"
   ]
  },
  {
   "cell_type": "markdown",
   "id": "8773d8ae-cd81-496a-813e-97206f7fc253",
   "metadata": {},
   "source": [
    "# np.argmin"
   ]
  },
  {
   "cell_type": "code",
   "execution_count": 40,
   "id": "5e5bc681-5660-489b-a14b-69e2f7b60ec9",
   "metadata": {},
   "outputs": [],
   "source": [
    "# this is the oposite of argmax"
   ]
  },
  {
   "cell_type": "code",
   "execution_count": 41,
   "id": "dd783813-1e1a-477f-9487-02401acb1851",
   "metadata": {},
   "outputs": [
    {
     "data": {
      "text/plain": [
       "array([95, 38,  7, 17, 56, 17, 27, 96, 64, 26, 49, 41, 89, 10, 54])"
      ]
     },
     "execution_count": 41,
     "metadata": {},
     "output_type": "execute_result"
    }
   ],
   "source": [
    "a"
   ]
  },
  {
   "cell_type": "code",
   "execution_count": 42,
   "id": "b392e380-0322-4c89-b90c-ea99732072b7",
   "metadata": {},
   "outputs": [
    {
     "data": {
      "text/plain": [
       "2"
      ]
     },
     "execution_count": 42,
     "metadata": {},
     "output_type": "execute_result"
    }
   ],
   "source": [
    "np.argmin(a)"
   ]
  },
  {
   "cell_type": "code",
   "execution_count": 43,
   "id": "a9b065e3-bbed-4ef3-b146-bdde91efaa8d",
   "metadata": {},
   "outputs": [
    {
     "data": {
      "text/plain": [
       "array([[41, 61, 91, 21],\n",
       "       [82, 46, 62, 28],\n",
       "       [70, 72, 99, 60],\n",
       "       [79, 30, 68, 57],\n",
       "       [81, 74,  8, 38],\n",
       "       [71, 11, 40, 63]])"
      ]
     },
     "execution_count": 43,
     "metadata": {},
     "output_type": "execute_result"
    }
   ],
   "source": [
    "b"
   ]
  },
  {
   "cell_type": "code",
   "execution_count": 44,
   "id": "f4577774-2b87-4c55-8596-aced327cd87c",
   "metadata": {},
   "outputs": [
    {
     "data": {
      "text/plain": [
       "array([0, 5, 4, 0], dtype=int64)"
      ]
     },
     "execution_count": 44,
     "metadata": {},
     "output_type": "execute_result"
    }
   ],
   "source": [
    "np.argmin(b,axis=0)"
   ]
  },
  {
   "cell_type": "code",
   "execution_count": 45,
   "id": "b6cddfbd-549a-46f1-a5a0-2dab2f93d729",
   "metadata": {},
   "outputs": [
    {
     "data": {
      "text/plain": [
       "array([3, 3, 3, 1, 2, 1], dtype=int64)"
      ]
     },
     "execution_count": 45,
     "metadata": {},
     "output_type": "execute_result"
    }
   ],
   "source": [
    "np.argmin(b,axis=1)"
   ]
  },
  {
   "cell_type": "markdown",
   "id": "9333c129-ab6e-4aba-9469-0de2dad0ce2a",
   "metadata": {},
   "source": [
    "# np.cumsum"
   ]
  },
  {
   "cell_type": "markdown",
   "id": "11e0312d-bd18-4ee9-a429-a71e51db85ff",
   "metadata": {},
   "source": [
    "\n",
    "numpy.cumsum() function is used when we want to compute the cumulative sum of array elements over a given axis.\n",
    "\n",
    "https://numpy.org/doc/stable/reference/generated/numpy.cumsum.html"
   ]
  },
  {
   "cell_type": "code",
   "execution_count": 46,
   "id": "0b832391-9454-44d2-89a6-a872e4e9d44b",
   "metadata": {},
   "outputs": [
    {
     "data": {
      "text/plain": [
       "array([95, 38,  7, 17, 56, 17, 27, 96, 64, 26, 49, 41, 89, 10, 54])"
      ]
     },
     "execution_count": 46,
     "metadata": {},
     "output_type": "execute_result"
    }
   ],
   "source": [
    "a"
   ]
  },
  {
   "cell_type": "code",
   "execution_count": 47,
   "id": "61fbb142-b398-49be-80b7-dbc08c01bdd4",
   "metadata": {},
   "outputs": [
    {
     "data": {
      "text/plain": [
       "array([ 95, 133, 140, 157, 213, 230, 257, 353, 417, 443, 492, 533, 622,\n",
       "       632, 686])"
      ]
     },
     "execution_count": 47,
     "metadata": {},
     "output_type": "execute_result"
    }
   ],
   "source": [
    "np.cumsum(a)"
   ]
  },
  {
   "cell_type": "code",
   "execution_count": 48,
   "id": "2ea6d3b1-f677-474a-b4fd-809fc0ecbd5d",
   "metadata": {},
   "outputs": [
    {
     "data": {
      "text/plain": [
       "array([[41, 61, 91, 21],\n",
       "       [82, 46, 62, 28],\n",
       "       [70, 72, 99, 60],\n",
       "       [79, 30, 68, 57],\n",
       "       [81, 74,  8, 38],\n",
       "       [71, 11, 40, 63]])"
      ]
     },
     "execution_count": 48,
     "metadata": {},
     "output_type": "execute_result"
    }
   ],
   "source": [
    "b"
   ]
  },
  {
   "cell_type": "code",
   "execution_count": 49,
   "id": "f0b42154-0a0c-4c26-920a-0b5263042641",
   "metadata": {},
   "outputs": [
    {
     "data": {
      "text/plain": [
       "array([[ 41,  61,  91,  21],\n",
       "       [123, 107, 153,  49],\n",
       "       [193, 179, 252, 109],\n",
       "       [272, 209, 320, 166],\n",
       "       [353, 283, 328, 204],\n",
       "       [424, 294, 368, 267]])"
      ]
     },
     "execution_count": 49,
     "metadata": {},
     "output_type": "execute_result"
    }
   ],
   "source": [
    "np.cumsum(b,axis=0)"
   ]
  },
  {
   "cell_type": "code",
   "execution_count": 50,
   "id": "49e59093-f5df-47a9-9142-a161fc4ebd52",
   "metadata": {},
   "outputs": [
    {
     "data": {
      "text/plain": [
       "array([[ 41, 102, 193, 214],\n",
       "       [ 82, 128, 190, 218],\n",
       "       [ 70, 142, 241, 301],\n",
       "       [ 79, 109, 177, 234],\n",
       "       [ 81, 155, 163, 201],\n",
       "       [ 71,  82, 122, 185]])"
      ]
     },
     "execution_count": 50,
     "metadata": {},
     "output_type": "execute_result"
    }
   ],
   "source": [
    "np.cumsum(b,axis=1)"
   ]
  },
  {
   "cell_type": "markdown",
   "id": "466edcac-387f-4de1-bc17-4204c8546e67",
   "metadata": {},
   "source": [
    "# np.cumprod"
   ]
  },
  {
   "cell_type": "code",
   "execution_count": 51,
   "id": "7a496176-50f6-47da-87ed-9ef1536afb07",
   "metadata": {},
   "outputs": [],
   "source": [
    "# It is also working like the cumsum if we do product replace of sum"
   ]
  },
  {
   "cell_type": "code",
   "execution_count": 52,
   "id": "eff94dff-403b-4280-b0f3-8d25f76d7595",
   "metadata": {},
   "outputs": [
    {
     "data": {
      "text/plain": [
       "array([95, 38,  7, 17, 56, 17, 27, 96, 64, 26, 49, 41, 89, 10, 54])"
      ]
     },
     "execution_count": 52,
     "metadata": {},
     "output_type": "execute_result"
    }
   ],
   "source": [
    "a"
   ]
  },
  {
   "cell_type": "code",
   "execution_count": 53,
   "id": "ff94ee34-e2fa-43cf-a877-32191d0aad96",
   "metadata": {},
   "outputs": [
    {
     "data": {
      "text/plain": [
       "array([         95,        3610,       25270,      429590,    24057040,\n",
       "         408969680, -1842720528,  -807511552,  -141131776,   625541120,\n",
       "         586743808, -1713307648,  2134441984,  -130416640,  1547436032])"
      ]
     },
     "execution_count": 53,
     "metadata": {},
     "output_type": "execute_result"
    }
   ],
   "source": [
    "np.cumprod(a)"
   ]
  },
  {
   "cell_type": "code",
   "execution_count": 54,
   "id": "b361662e-9183-43ae-bbb1-20e81a5a6dd5",
   "metadata": {},
   "outputs": [
    {
     "data": {
      "text/plain": [
       "array([[41, 61, 91, 21],\n",
       "       [82, 46, 62, 28],\n",
       "       [70, 72, 99, 60],\n",
       "       [79, 30, 68, 57],\n",
       "       [81, 74,  8, 38],\n",
       "       [71, 11, 40, 63]])"
      ]
     },
     "execution_count": 54,
     "metadata": {},
     "output_type": "execute_result"
    }
   ],
   "source": [
    "b"
   ]
  },
  {
   "cell_type": "code",
   "execution_count": 55,
   "id": "8f40031a-d3a5-4071-b43a-e8f255ba7375",
   "metadata": {},
   "outputs": [
    {
     "data": {
      "text/plain": [
       "array([[        41,         61,         91,         21],\n",
       "       [      3362,       2806,       5642,        588],\n",
       "       [    235340,     202032,     558558,      35280],\n",
       "       [  18591860,    6060960,   37981944,    2010960],\n",
       "       [1505940660,  448511040,  303855552,   76416480],\n",
       "       [-452395540,  638654144, -730679808,  519270944]])"
      ]
     },
     "execution_count": 55,
     "metadata": {},
     "output_type": "execute_result"
    }
   ],
   "source": [
    "np.cumprod(b,axis=0)"
   ]
  },
  {
   "cell_type": "code",
   "execution_count": 56,
   "id": "be29377d-b5e3-40b9-8b71-48970d4e0b4c",
   "metadata": {},
   "outputs": [
    {
     "data": {
      "text/plain": [
       "array([[      41,     2501,   227591,  4779411],\n",
       "       [      82,     3772,   233864,  6548192],\n",
       "       [      70,     5040,   498960, 29937600],\n",
       "       [      79,     2370,   161160,  9186120],\n",
       "       [      81,     5994,    47952,  1822176],\n",
       "       [      71,      781,    31240,  1968120]])"
      ]
     },
     "execution_count": 56,
     "metadata": {},
     "output_type": "execute_result"
    }
   ],
   "source": [
    "np.cumprod(b,axis=1)"
   ]
  },
  {
   "cell_type": "markdown",
   "id": "2fe69204-08ab-47b8-8030-7d2e90fdb691",
   "metadata": {},
   "source": [
    "# np.percentile"
   ]
  },
  {
   "cell_type": "markdown",
   "id": "c745d8e6-03cf-491b-9c13-5fef657c6604",
   "metadata": {},
   "source": [
    "\n",
    "numpy.cumsum() function is used when we want to compute the cumulative sum of array elements over a given axis.\n",
    "\n",
    "https://numpy.org/doc/stable/reference/generated/numpy.cumsum.html"
   ]
  },
  {
   "cell_type": "code",
   "execution_count": 57,
   "id": "66165f01-f1f5-49f1-8ca7-fd574ae98167",
   "metadata": {},
   "outputs": [
    {
     "data": {
      "text/plain": [
       "array([95, 38,  7, 17, 56, 17, 27, 96, 64, 26, 49, 41, 89, 10, 54])"
      ]
     },
     "execution_count": 57,
     "metadata": {},
     "output_type": "execute_result"
    }
   ],
   "source": [
    "a"
   ]
  },
  {
   "cell_type": "code",
   "execution_count": 58,
   "id": "18e3a2e3-de72-474c-91b1-4124eb9fe5e3",
   "metadata": {},
   "outputs": [
    {
     "data": {
      "text/plain": [
       "41.0"
      ]
     },
     "execution_count": 58,
     "metadata": {},
     "output_type": "execute_result"
    }
   ],
   "source": [
    "np.percentile(a,50)"
   ]
  },
  {
   "cell_type": "code",
   "execution_count": 59,
   "id": "a6444616-3034-4ba6-83d0-786f805de4e2",
   "metadata": {},
   "outputs": [
    {
     "data": {
      "text/plain": [
       "60.0"
      ]
     },
     "execution_count": 59,
     "metadata": {},
     "output_type": "execute_result"
    }
   ],
   "source": [
    "np.percentile(a,75)"
   ]
  },
  {
   "cell_type": "code",
   "execution_count": 60,
   "id": "c7af7243-7925-4e9d-a5f5-431e969d53f2",
   "metadata": {},
   "outputs": [
    {
     "data": {
      "text/plain": [
       "21.5"
      ]
     },
     "execution_count": 60,
     "metadata": {},
     "output_type": "execute_result"
    }
   ],
   "source": [
    "np.percentile(a,25)"
   ]
  },
  {
   "cell_type": "markdown",
   "id": "53590c8f-d6da-40dd-86bc-09e20a0edb3c",
   "metadata": {},
   "source": [
    "# np.histogram"
   ]
  },
  {
   "cell_type": "markdown",
   "id": "06cc555e-5f93-4c9f-aa26-a57d24ef4e48",
   "metadata": {},
   "source": [
    "\r\n",
    "Numpy has a built-in numpy.histogram() function which represents the frequency of data distribution in the graphical form.\r\n",
    "\r\n",
    "https://numpy.org/doc/stable/reference/generated/numpy.histogram.html"
   ]
  },
  {
   "cell_type": "code",
   "execution_count": 61,
   "id": "e300a129-904b-4bca-89ca-29cff6f05f22",
   "metadata": {},
   "outputs": [
    {
     "data": {
      "text/plain": [
       "array([95, 38,  7, 17, 56, 17, 27, 96, 64, 26, 49, 41, 89, 10, 54])"
      ]
     },
     "execution_count": 61,
     "metadata": {},
     "output_type": "execute_result"
    }
   ],
   "source": [
    "a"
   ]
  },
  {
   "cell_type": "code",
   "execution_count": 62,
   "id": "b70d75d5-7ab8-473f-8be7-576f527122a5",
   "metadata": {},
   "outputs": [
    {
     "data": {
      "text/plain": [
       "(array([1, 3, 2, 1, 2, 2, 1, 0, 1, 2], dtype=int64),\n",
       " array([  0,  10,  20,  30,  40,  50,  60,  70,  80,  90, 100]))"
      ]
     },
     "execution_count": 62,
     "metadata": {},
     "output_type": "execute_result"
    }
   ],
   "source": [
    "np.histogram(a,bins=[0,10,20,30,40,50,60,70,80,90,100])"
   ]
  },
  {
   "cell_type": "code",
   "execution_count": 63,
   "id": "7a5f8355-e1cc-49b2-8115-b97fcfcf6903",
   "metadata": {},
   "outputs": [
    {
     "data": {
      "text/plain": [
       "(array([9, 6], dtype=int64), array([  0,  50, 100]))"
      ]
     },
     "execution_count": 63,
     "metadata": {},
     "output_type": "execute_result"
    }
   ],
   "source": [
    "np.histogram(a,bins=[0,50,100])"
   ]
  },
  {
   "cell_type": "markdown",
   "id": "b7787fab-f50b-4476-af9a-50d77fedeaad",
   "metadata": {},
   "source": [
    "# np.corrcoef"
   ]
  },
  {
   "cell_type": "markdown",
   "id": "ad52501b-0ca1-4501-9d5a-3bb5f260f0ed",
   "metadata": {},
   "source": [
    "\n",
    "Return Pearson product-moment correlation coefficients.\n",
    "\n",
    "https://numpy.org/doc/stable/reference/generated/numpy.corrcoef.html"
   ]
  },
  {
   "cell_type": "code",
   "execution_count": 64,
   "id": "474282be-10ca-4004-a34f-618f03b4fdbc",
   "metadata": {},
   "outputs": [],
   "source": [
    "salary = np.array([20000,40000,25000,35000,60000])\n",
    "experience = np.array([1,3,2,4,2])"
   ]
  },
  {
   "cell_type": "code",
   "execution_count": 65,
   "id": "bd459a58-3256-4872-83eb-ef2eb227cf3f",
   "metadata": {},
   "outputs": [
    {
     "data": {
      "text/plain": [
       "array([[1.        , 0.25344572],\n",
       "       [0.25344572, 1.        ]])"
      ]
     },
     "execution_count": 65,
     "metadata": {},
     "output_type": "execute_result"
    }
   ],
   "source": [
    "np.corrcoef(salary,experience)"
   ]
  },
  {
   "cell_type": "markdown",
   "id": "e407cf2c-f205-4a95-935e-184a3e477be1",
   "metadata": {},
   "source": [
    "# np.isin"
   ]
  },
  {
   "cell_type": "markdown",
   "id": "0c8392d4-6ba1-4387-9d75-6af89248a81a",
   "metadata": {},
   "source": [
    "\n",
    "With the help of numpy.isin() method, we can see that one array having values are checked in a different numpy array having different elements with different sizes.\n",
    "\n",
    "https://numpy.org/doc/stable/reference/generated/numpy.isin.html"
   ]
  },
  {
   "cell_type": "code",
   "execution_count": 66,
   "id": "1749c19d-50e1-4330-9f45-dacfae7140f5",
   "metadata": {},
   "outputs": [
    {
     "data": {
      "text/plain": [
       "array([95, 38,  7, 17, 56, 17, 27, 96, 64, 26, 49, 41, 89, 10, 54])"
      ]
     },
     "execution_count": 66,
     "metadata": {},
     "output_type": "execute_result"
    }
   ],
   "source": [
    "a"
   ]
  },
  {
   "cell_type": "code",
   "execution_count": 67,
   "id": "bebdd376-bdc8-4068-8b2d-ca9ad958d43e",
   "metadata": {},
   "outputs": [],
   "source": [
    "items=[10,20,30,40,50,60,70,80,90,100]"
   ]
  },
  {
   "cell_type": "code",
   "execution_count": 68,
   "id": "b66ecd73-51c4-4c7f-873b-2d47a74d9dd7",
   "metadata": {},
   "outputs": [
    {
     "data": {
      "text/plain": [
       "array([False, False, False, False, False, False, False, False, False,\n",
       "       False, False, False, False,  True, False])"
      ]
     },
     "execution_count": 68,
     "metadata": {},
     "output_type": "execute_result"
    }
   ],
   "source": [
    "np.isin(a,items)"
   ]
  },
  {
   "cell_type": "code",
   "execution_count": 69,
   "id": "43e414ee-f381-44ee-877b-f080c3ab367d",
   "metadata": {},
   "outputs": [
    {
     "data": {
      "text/plain": [
       "array([10])"
      ]
     },
     "execution_count": 69,
     "metadata": {},
     "output_type": "execute_result"
    }
   ],
   "source": [
    "a[np.isin(a,items)]"
   ]
  },
  {
   "cell_type": "markdown",
   "id": "89579b81-439a-4ccf-bd7f-69be5dba5062",
   "metadata": {},
   "source": [
    "# np.flip"
   ]
  },
  {
   "cell_type": "markdown",
   "id": "1e64b475-7520-46e2-90ed-2d867ce41e6a",
   "metadata": {},
   "source": [
    "\n",
    "The numpy.flip() function reverses the order of array elements along the specified axis, preserving the shape of the array.\n",
    "\n",
    "https://numpy.org/doc/stable/reference/generated/numpy.flip.html"
   ]
  },
  {
   "cell_type": "code",
   "execution_count": 70,
   "id": "c70303c0-ddb8-4b7b-9048-5605aea9a706",
   "metadata": {},
   "outputs": [
    {
     "data": {
      "text/plain": [
       "array([95, 38,  7, 17, 56, 17, 27, 96, 64, 26, 49, 41, 89, 10, 54])"
      ]
     },
     "execution_count": 70,
     "metadata": {},
     "output_type": "execute_result"
    }
   ],
   "source": [
    "a"
   ]
  },
  {
   "cell_type": "code",
   "execution_count": 71,
   "id": "05c07da4-68ec-4dab-b4e8-d64f1390bb7a",
   "metadata": {},
   "outputs": [
    {
     "data": {
      "text/plain": [
       "array([54, 10, 89, 41, 49, 26, 64, 96, 27, 17, 56, 17,  7, 38, 95])"
      ]
     },
     "execution_count": 71,
     "metadata": {},
     "output_type": "execute_result"
    }
   ],
   "source": [
    "np.flip(a)"
   ]
  },
  {
   "cell_type": "code",
   "execution_count": 72,
   "id": "fbef60dc-69a7-4cc9-98dd-e4cce0be65d2",
   "metadata": {},
   "outputs": [
    {
     "data": {
      "text/plain": [
       "array([[41, 61, 91, 21],\n",
       "       [82, 46, 62, 28],\n",
       "       [70, 72, 99, 60],\n",
       "       [79, 30, 68, 57],\n",
       "       [81, 74,  8, 38],\n",
       "       [71, 11, 40, 63]])"
      ]
     },
     "execution_count": 72,
     "metadata": {},
     "output_type": "execute_result"
    }
   ],
   "source": [
    "b"
   ]
  },
  {
   "cell_type": "code",
   "execution_count": 74,
   "id": "2f8dd7f9-34cb-43a1-a727-5ac01214d3cc",
   "metadata": {},
   "outputs": [
    {
     "data": {
      "text/plain": [
       "array([[63, 40, 11, 71],\n",
       "       [38,  8, 74, 81],\n",
       "       [57, 68, 30, 79],\n",
       "       [60, 99, 72, 70],\n",
       "       [28, 62, 46, 82],\n",
       "       [21, 91, 61, 41]])"
      ]
     },
     "execution_count": 74,
     "metadata": {},
     "output_type": "execute_result"
    }
   ],
   "source": [
    "np.flip(b)"
   ]
  },
  {
   "cell_type": "code",
   "execution_count": 75,
   "id": "3ac54f0a-7b42-4d91-8843-2364fb8e6387",
   "metadata": {},
   "outputs": [
    {
     "data": {
      "text/plain": [
       "array([[71, 11, 40, 63],\n",
       "       [81, 74,  8, 38],\n",
       "       [79, 30, 68, 57],\n",
       "       [70, 72, 99, 60],\n",
       "       [82, 46, 62, 28],\n",
       "       [41, 61, 91, 21]])"
      ]
     },
     "execution_count": 75,
     "metadata": {},
     "output_type": "execute_result"
    }
   ],
   "source": [
    "np.flip(b,axis=0)"
   ]
  },
  {
   "cell_type": "code",
   "execution_count": 76,
   "id": "b4419142-5257-4d50-a088-722b14ccb98f",
   "metadata": {},
   "outputs": [
    {
     "data": {
      "text/plain": [
       "array([[21, 91, 61, 41],\n",
       "       [28, 62, 46, 82],\n",
       "       [60, 99, 72, 70],\n",
       "       [57, 68, 30, 79],\n",
       "       [38,  8, 74, 81],\n",
       "       [63, 40, 11, 71]])"
      ]
     },
     "execution_count": 76,
     "metadata": {},
     "output_type": "execute_result"
    }
   ],
   "source": [
    "np.flip(b,axis=1)"
   ]
  },
  {
   "cell_type": "markdown",
   "id": "a984f3b3-4a14-496b-9a05-fab67385857a",
   "metadata": {},
   "source": [
    "# np.put"
   ]
  },
  {
   "cell_type": "markdown",
   "id": "d0dd882e-7981-4944-bdbe-babff26da000",
   "metadata": {},
   "source": [
    "\r\n",
    "The numpy.put() function replaces specific elements of an array with given values of p_array. Array indexed works on flattened array.\r\n",
    "\r\n",
    "https://numpy.org/doc/stable/reference/generated/numpy.put.html"
   ]
  },
  {
   "cell_type": "code",
   "execution_count": 77,
   "id": "7362b7e6-5b93-4062-afd1-d7299ebaff78",
   "metadata": {},
   "outputs": [
    {
     "data": {
      "text/plain": [
       "array([95, 38,  7, 17, 56, 17, 27, 96, 64, 26, 49, 41, 89, 10, 54])"
      ]
     },
     "execution_count": 77,
     "metadata": {},
     "output_type": "execute_result"
    }
   ],
   "source": [
    "a"
   ]
  },
  {
   "cell_type": "code",
   "execution_count": 78,
   "id": "3f37e7a6-20d1-444e-8b2c-fdf253896c74",
   "metadata": {},
   "outputs": [],
   "source": [
    "np.put(a,[0,1],[96,39])"
   ]
  },
  {
   "cell_type": "code",
   "execution_count": 79,
   "id": "646bea35-927d-4ae8-acc8-61f3482915f9",
   "metadata": {},
   "outputs": [
    {
     "data": {
      "text/plain": [
       "array([96, 39,  7, 17, 56, 17, 27, 96, 64, 26, 49, 41, 89, 10, 54])"
      ]
     },
     "execution_count": 79,
     "metadata": {},
     "output_type": "execute_result"
    }
   ],
   "source": [
    "a"
   ]
  },
  {
   "cell_type": "code",
   "execution_count": 80,
   "id": "864c7e49-a09f-4e26-ad94-42a5616e0017",
   "metadata": {},
   "outputs": [],
   "source": [
    "# in this function the changes are permanently \n",
    "#np.put(array,index,values)"
   ]
  },
  {
   "cell_type": "markdown",
   "id": "3f611651-a42c-4db2-83ae-6ce54cc94acd",
   "metadata": {},
   "source": [
    "# np.delete"
   ]
  },
  {
   "cell_type": "markdown",
   "id": "91d196f3-8f91-4eb2-b497-6369d38fe2b7",
   "metadata": {},
   "source": [
    "\r\n",
    "The numpy.delete() function returns a new array with the deletion of sub-arrays along with the mentioned axis.\r\n",
    "\r\n",
    "https://numpy.org/doc/stable/reference/generated/numpy.delete.html"
   ]
  },
  {
   "cell_type": "code",
   "execution_count": 81,
   "id": "e75cc766-02a8-48be-a690-dcc9593312c7",
   "metadata": {},
   "outputs": [
    {
     "data": {
      "text/plain": [
       "array([96, 39,  7, 17, 56, 17, 27, 96, 64, 26, 49, 41, 89, 10, 54])"
      ]
     },
     "execution_count": 81,
     "metadata": {},
     "output_type": "execute_result"
    }
   ],
   "source": [
    "a"
   ]
  },
  {
   "cell_type": "code",
   "execution_count": 82,
   "id": "07958498-af67-4997-bed4-f31b930b74c7",
   "metadata": {},
   "outputs": [
    {
     "data": {
      "text/plain": [
       "array([39,  7, 17, 56, 17, 27, 96, 64, 26, 49, 41, 89, 10, 54])"
      ]
     },
     "execution_count": 82,
     "metadata": {},
     "output_type": "execute_result"
    }
   ],
   "source": [
    "np.delete(a,0)"
   ]
  },
  {
   "cell_type": "code",
   "execution_count": 83,
   "id": "9630b222-511a-4fb3-a05c-1c0caf4fbc54",
   "metadata": {},
   "outputs": [
    {
     "data": {
      "text/plain": [
       "array([17, 56, 17, 27, 96, 64, 26, 49, 41, 89, 10, 54])"
      ]
     },
     "execution_count": 83,
     "metadata": {},
     "output_type": "execute_result"
    }
   ],
   "source": [
    "np.delete(a,[0,1,2])"
   ]
  },
  {
   "cell_type": "code",
   "execution_count": 84,
   "id": "08d2a2d4-33c6-4555-b359-924cbf7c74b7",
   "metadata": {},
   "outputs": [],
   "source": [
    "# np.delete(array,index)"
   ]
  },
  {
   "cell_type": "markdown",
   "id": "01b6d2eb-8eb7-4e84-8434-13f81c456290",
   "metadata": {},
   "source": [
    "# SET FUNCTIONS"
   ]
  },
  {
   "cell_type": "markdown",
   "id": "d577ab7c-697b-4fb7-82e4-a92f423a0e59",
   "metadata": {},
   "source": [
    "### 1.np.union1d"
   ]
  },
  {
   "cell_type": "code",
   "execution_count": 85,
   "id": "eff684df-37bd-4d0a-9846-73a66d414701",
   "metadata": {},
   "outputs": [],
   "source": [
    "m = np.array([1,2,3,4,5])\n",
    "n = np.array([3,4,5,6,7])"
   ]
  },
  {
   "cell_type": "code",
   "execution_count": 86,
   "id": "34d5a1d6-0c1c-4a95-b166-0fb79a5326d5",
   "metadata": {},
   "outputs": [
    {
     "data": {
      "text/plain": [
       "array([1, 2, 3, 4, 5, 6, 7])"
      ]
     },
     "execution_count": 86,
     "metadata": {},
     "output_type": "execute_result"
    }
   ],
   "source": [
    "np.union1d(m,n)"
   ]
  },
  {
   "cell_type": "markdown",
   "id": "21be618c-0403-4b87-b538-3efe7fd52831",
   "metadata": {},
   "source": [
    "### 2.np.intersect1d"
   ]
  },
  {
   "cell_type": "code",
   "execution_count": 87,
   "id": "57245e32-9296-49d0-9015-0010a9e55d2b",
   "metadata": {},
   "outputs": [
    {
     "data": {
      "text/plain": [
       "array([3, 4, 5])"
      ]
     },
     "execution_count": 87,
     "metadata": {},
     "output_type": "execute_result"
    }
   ],
   "source": [
    "np.intersect1d(m,n)"
   ]
  },
  {
   "cell_type": "markdown",
   "id": "433ff07d-c461-4d05-bf97-d8eaacc8d886",
   "metadata": {},
   "source": [
    "### 3.np.setdiff1d"
   ]
  },
  {
   "cell_type": "code",
   "execution_count": 88,
   "id": "10edc1a4-5e8e-4e61-9347-bb96524b49bc",
   "metadata": {},
   "outputs": [
    {
     "data": {
      "text/plain": [
       "array([1, 2])"
      ]
     },
     "execution_count": 88,
     "metadata": {},
     "output_type": "execute_result"
    }
   ],
   "source": [
    "np.setdiff1d(m,n)  # elements of m which  are not in n"
   ]
  },
  {
   "cell_type": "code",
   "execution_count": 89,
   "id": "cff185bd-af88-4626-ae47-4addca161500",
   "metadata": {},
   "outputs": [
    {
     "data": {
      "text/plain": [
       "array([6, 7])"
      ]
     },
     "execution_count": 89,
     "metadata": {},
     "output_type": "execute_result"
    }
   ],
   "source": [
    "np.setdiff1d(n,m)  # elements of n which  are not in m"
   ]
  },
  {
   "cell_type": "markdown",
   "id": "bd3c30eb-d1ac-4e6c-98e9-e06c46c2d182",
   "metadata": {},
   "source": [
    "### 4.np.setxor1d"
   ]
  },
  {
   "cell_type": "code",
   "execution_count": 90,
   "id": "fd1404fa-0861-4b37-9342-3f13ebd84ab4",
   "metadata": {},
   "outputs": [
    {
     "data": {
      "text/plain": [
       "array([1, 2, 6, 7])"
      ]
     },
     "execution_count": 90,
     "metadata": {},
     "output_type": "execute_result"
    }
   ],
   "source": [
    "np.setxor1d(m,n)"
   ]
  },
  {
   "cell_type": "code",
   "execution_count": 91,
   "id": "bd75a366-225b-4500-93a2-79df4f3e6312",
   "metadata": {},
   "outputs": [],
   "source": [
    "# remove the common element"
   ]
  },
  {
   "cell_type": "markdown",
   "id": "6d929525-7388-435e-887e-834a7c6dd894",
   "metadata": {},
   "source": [
    "### 5.np.in1d"
   ]
  },
  {
   "cell_type": "code",
   "execution_count": 93,
   "id": "fa04c090-a9d1-4d78-a086-acf136bd2729",
   "metadata": {},
   "outputs": [
    {
     "data": {
      "text/plain": [
       "array([False, False,  True, False, False])"
      ]
     },
     "execution_count": 93,
     "metadata": {},
     "output_type": "execute_result"
    }
   ],
   "source": [
    "np.in1d(m,3)"
   ]
  },
  {
   "cell_type": "code",
   "execution_count": 94,
   "id": "ca71a855-b223-463a-80b1-9083eb0dd0e2",
   "metadata": {},
   "outputs": [
    {
     "data": {
      "text/plain": [
       "array([False,  True, False, False, False])"
      ]
     },
     "execution_count": 94,
     "metadata": {},
     "output_type": "execute_result"
    }
   ],
   "source": [
    "np.in1d(n,4)"
   ]
  },
  {
   "cell_type": "code",
   "execution_count": 95,
   "id": "58d1cbdd-cbae-44aa-a69e-cc2b13cd5b61",
   "metadata": {},
   "outputs": [],
   "source": [
    "# check the given element is in array or not\n",
    "#np.in1d(array,element)"
   ]
  },
  {
   "cell_type": "markdown",
   "id": "f06828f6-9848-490b-bc4f-500ceecc220b",
   "metadata": {},
   "source": [
    "# np.clip"
   ]
  },
  {
   "cell_type": "markdown",
   "id": "af7f9be8-adef-42a0-8169-544dd0973305",
   "metadata": {},
   "source": [
    "\r\n",
    "numpy.clip() function is used to Clip (limit) the values in an array.\r\n",
    "\r\n",
    "https://numpy.org/doc/stable/reference/generated/numpy.clip.html"
   ]
  },
  {
   "cell_type": "code",
   "execution_count": 96,
   "id": "0fdd0d5f-23fb-459b-b776-9d41eecf4b2c",
   "metadata": {},
   "outputs": [
    {
     "data": {
      "text/plain": [
       "array([96, 39,  7, 17, 56, 17, 27, 96, 64, 26, 49, 41, 89, 10, 54])"
      ]
     },
     "execution_count": 96,
     "metadata": {},
     "output_type": "execute_result"
    }
   ],
   "source": [
    "a"
   ]
  },
  {
   "cell_type": "code",
   "execution_count": 97,
   "id": "e88210f7-2751-4c0c-a6d4-368ee67d3b91",
   "metadata": {},
   "outputs": [
    {
     "data": {
      "text/plain": [
       "array([75, 39, 25, 25, 56, 25, 27, 75, 64, 26, 49, 41, 75, 25, 54])"
      ]
     },
     "execution_count": 97,
     "metadata": {},
     "output_type": "execute_result"
    }
   ],
   "source": [
    "#np.clip(array,array_min=min range,array_max=max range)\n",
    "\n",
    "np.clip(a,a_min=25,a_max=75)"
   ]
  },
  {
   "cell_type": "code",
   "execution_count": null,
   "id": "898af838-66e6-487e-845c-95a070b32622",
   "metadata": {},
   "outputs": [],
   "source": []
  }
 ],
 "metadata": {
  "kernelspec": {
   "display_name": "Python 3 (ipykernel)",
   "language": "python",
   "name": "python3"
  },
  "language_info": {
   "codemirror_mode": {
    "name": "ipython",
    "version": 3
   },
   "file_extension": ".py",
   "mimetype": "text/x-python",
   "name": "python",
   "nbconvert_exporter": "python",
   "pygments_lexer": "ipython3",
   "version": "3.11.5"
  },
  "widgets": {
   "application/vnd.jupyter.widget-state+json": {
    "state": {},
    "version_major": 2,
    "version_minor": 0
   }
  }
 },
 "nbformat": 4,
 "nbformat_minor": 5
}
