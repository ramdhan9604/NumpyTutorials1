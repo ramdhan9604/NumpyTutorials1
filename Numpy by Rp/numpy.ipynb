{
 "cells": [
  {
   "cell_type": "markdown",
   "id": "2d1ea19f-15c1-4293-b810-a51424f17043",
   "metadata": {},
   "source": [
    "# Creating Numpy Array"
   ]
  },
  {
   "cell_type": "code",
   "execution_count": 1,
   "id": "a2ca30cf-bbed-453d-967f-c2a1de884a59",
   "metadata": {},
   "outputs": [],
   "source": [
    "import numpy as np"
   ]
  },
  {
   "cell_type": "code",
   "execution_count": 2,
   "id": "670c1099-b165-4b51-9a31-3c8730b8b9a3",
   "metadata": {},
   "outputs": [],
   "source": [
    "a=np.array([1,2,3,4,5,6])"
   ]
  },
  {
   "cell_type": "code",
   "execution_count": 3,
   "id": "60c70a7d-cd52-4559-9733-4fb220dcc8d9",
   "metadata": {},
   "outputs": [
    {
     "data": {
      "text/plain": [
       "array([1, 2, 3, 4, 5, 6])"
      ]
     },
     "execution_count": 3,
     "metadata": {},
     "output_type": "execute_result"
    }
   ],
   "source": [
    "a"
   ]
  },
  {
   "cell_type": "code",
   "execution_count": 4,
   "id": "57e6706b-3d7f-4e24-8505-1ce231a16cef",
   "metadata": {},
   "outputs": [
    {
     "data": {
      "text/plain": [
       "numpy.ndarray"
      ]
     },
     "execution_count": 4,
     "metadata": {},
     "output_type": "execute_result"
    }
   ],
   "source": [
    "type(a)"
   ]
  },
  {
   "cell_type": "markdown",
   "id": "84e9464d-64d1-42e1-bb18-842eb42c8204",
   "metadata": {},
   "source": [
    "# 2D and 3D Array"
   ]
  },
  {
   "cell_type": "code",
   "execution_count": 9,
   "id": "57ed98e7-ac06-49c1-bdd4-1b4d538dc615",
   "metadata": {},
   "outputs": [],
   "source": [
    "b=np.array([[1,2,3],[4,5,6]])"
   ]
  },
  {
   "cell_type": "code",
   "execution_count": 10,
   "id": "a43ff51a-37fd-4fac-9f57-6f1632393530",
   "metadata": {},
   "outputs": [
    {
     "data": {
      "text/plain": [
       "array([[1, 2, 3],\n",
       "       [4, 5, 6]])"
      ]
     },
     "execution_count": 10,
     "metadata": {},
     "output_type": "execute_result"
    }
   ],
   "source": [
    "b"
   ]
  },
  {
   "cell_type": "code",
   "execution_count": 11,
   "id": "1aa73ffa-da57-4318-a3fc-9702e0eb2749",
   "metadata": {},
   "outputs": [],
   "source": [
    "c=np.array([[1,2,3],[4,5,6],[7,8,9]])"
   ]
  },
  {
   "cell_type": "code",
   "execution_count": 12,
   "id": "0b75610a-b6fa-4926-b536-aee03cb9c048",
   "metadata": {},
   "outputs": [
    {
     "data": {
      "text/plain": [
       "array([[1, 2, 3],\n",
       "       [4, 5, 6],\n",
       "       [7, 8, 9]])"
      ]
     },
     "execution_count": 12,
     "metadata": {},
     "output_type": "execute_result"
    }
   ],
   "source": [
    "c"
   ]
  },
  {
   "cell_type": "markdown",
   "id": "394221b2-1443-4d64-ae71-8fa70313d9c7",
   "metadata": {},
   "source": [
    "# Dtype"
   ]
  },
  {
   "cell_type": "code",
   "execution_count": 13,
   "id": "20846146-c1df-41d0-a6b7-b4558bfa77e3",
   "metadata": {},
   "outputs": [],
   "source": [
    "d=np.array([1,2,3],dtype=int)"
   ]
  },
  {
   "cell_type": "code",
   "execution_count": 14,
   "id": "8711147a-4501-4c77-8da2-9ccebc3b00c8",
   "metadata": {},
   "outputs": [
    {
     "data": {
      "text/plain": [
       "array([1, 2, 3])"
      ]
     },
     "execution_count": 14,
     "metadata": {},
     "output_type": "execute_result"
    }
   ],
   "source": [
    "d"
   ]
  },
  {
   "cell_type": "code",
   "execution_count": 15,
   "id": "e11c8847-e339-4119-83b1-275938b2efe3",
   "metadata": {},
   "outputs": [],
   "source": [
    "e=np.array([1,2,3],dtype=float)"
   ]
  },
  {
   "cell_type": "code",
   "execution_count": 16,
   "id": "e1bd25e1-3630-4086-b696-ebb92dc58d68",
   "metadata": {},
   "outputs": [
    {
     "data": {
      "text/plain": [
       "array([1., 2., 3.])"
      ]
     },
     "execution_count": 16,
     "metadata": {},
     "output_type": "execute_result"
    }
   ],
   "source": [
    "e"
   ]
  },
  {
   "cell_type": "code",
   "execution_count": 19,
   "id": "f260cdc5-d507-45d6-8798-5cd20141c363",
   "metadata": {},
   "outputs": [],
   "source": [
    "f=np.array([-1,0,1],dtype=bool)"
   ]
  },
  {
   "cell_type": "code",
   "execution_count": 20,
   "id": "0e5d9b6c-77c2-4d71-99dc-b2ca490d255c",
   "metadata": {},
   "outputs": [
    {
     "data": {
      "text/plain": [
       "array([ True, False,  True])"
      ]
     },
     "execution_count": 20,
     "metadata": {},
     "output_type": "execute_result"
    }
   ],
   "source": [
    "f"
   ]
  },
  {
   "cell_type": "code",
   "execution_count": 21,
   "id": "73e03efe-d43d-4565-abb9-a14b233b01da",
   "metadata": {},
   "outputs": [],
   "source": [
    "g=np.array([1,2,3],dtype=complex)"
   ]
  },
  {
   "cell_type": "code",
   "execution_count": 22,
   "id": "0012f97e-495f-488f-8775-d6f254c9997d",
   "metadata": {},
   "outputs": [
    {
     "data": {
      "text/plain": [
       "array([1.+0.j, 2.+0.j, 3.+0.j])"
      ]
     },
     "execution_count": 22,
     "metadata": {},
     "output_type": "execute_result"
    }
   ],
   "source": [
    "g"
   ]
  },
  {
   "cell_type": "markdown",
   "id": "3d20f027-709a-4706-b402-d90fdf5332d9",
   "metadata": {},
   "source": [
    "# np.arange"
   ]
  },
  {
   "cell_type": "code",
   "execution_count": 23,
   "id": "ba928817-e61e-42e6-a647-56a02790a04d",
   "metadata": {},
   "outputs": [
    {
     "data": {
      "text/plain": [
       "array([ 1,  2,  3,  4,  5,  6,  7,  8,  9, 10])"
      ]
     },
     "execution_count": 23,
     "metadata": {},
     "output_type": "execute_result"
    }
   ],
   "source": [
    "np.arange(1,11)"
   ]
  },
  {
   "cell_type": "code",
   "execution_count": 24,
   "id": "3e43f1a1-45dd-4af0-88ed-14e76332660f",
   "metadata": {},
   "outputs": [
    {
     "data": {
      "text/plain": [
       "array([1, 3, 5, 7, 9])"
      ]
     },
     "execution_count": 24,
     "metadata": {},
     "output_type": "execute_result"
    }
   ],
   "source": [
    "np.arange(1,11,2)"
   ]
  },
  {
   "cell_type": "markdown",
   "id": "be898b26-0098-4caf-aa00-4f74d6d71d54",
   "metadata": {},
   "source": [
    "# wirh reshape"
   ]
  },
  {
   "cell_type": "code",
   "execution_count": 25,
   "id": "e74daf25-3042-438c-ae9a-46ff48c50574",
   "metadata": {},
   "outputs": [
    {
     "data": {
      "text/plain": [
       "array([[ 1,  2,  3,  4,  5],\n",
       "       [ 6,  7,  8,  9, 10]])"
      ]
     },
     "execution_count": 25,
     "metadata": {},
     "output_type": "execute_result"
    }
   ],
   "source": [
    "np.arange(1,11).reshape(2,5)"
   ]
  },
  {
   "cell_type": "code",
   "execution_count": 26,
   "id": "4f5165f0-0179-4bbd-8861-79f713889053",
   "metadata": {},
   "outputs": [
    {
     "data": {
      "text/plain": [
       "array([[ 1,  2],\n",
       "       [ 3,  4],\n",
       "       [ 5,  6],\n",
       "       [ 7,  8],\n",
       "       [ 9, 10]])"
      ]
     },
     "execution_count": 26,
     "metadata": {},
     "output_type": "execute_result"
    }
   ],
   "source": [
    "np.arange(1,11).reshape(5,2)"
   ]
  },
  {
   "cell_type": "code",
   "execution_count": 27,
   "id": "15a8a9c8-a61a-4455-9249-a47cb32ac936",
   "metadata": {},
   "outputs": [
    {
     "data": {
      "text/plain": [
       "array([[ 1,  2,  3,  4],\n",
       "       [ 5,  6,  7,  8],\n",
       "       [ 9, 10, 11, 12]])"
      ]
     },
     "execution_count": 27,
     "metadata": {},
     "output_type": "execute_result"
    }
   ],
   "source": [
    "np.arange(1,13).reshape(3,4)"
   ]
  },
  {
   "cell_type": "code",
   "execution_count": 28,
   "id": "8e1eb0dc-4bdf-4c58-8b6e-f29681e4101c",
   "metadata": {},
   "outputs": [
    {
     "data": {
      "text/plain": [
       "array([[ 1,  2,  3],\n",
       "       [ 4,  5,  6],\n",
       "       [ 7,  8,  9],\n",
       "       [10, 11, 12]])"
      ]
     },
     "execution_count": 28,
     "metadata": {},
     "output_type": "execute_result"
    }
   ],
   "source": [
    "np.arange(1,13).reshape(4,3)"
   ]
  },
  {
   "cell_type": "code",
   "execution_count": 29,
   "id": "2f68fbae-11b7-4957-a3e0-782c6b82965a",
   "metadata": {},
   "outputs": [
    {
     "data": {
      "text/plain": [
       "array([[ 1,  2,  3,  4,  5,  6],\n",
       "       [ 7,  8,  9, 10, 11, 12]])"
      ]
     },
     "execution_count": 29,
     "metadata": {},
     "output_type": "execute_result"
    }
   ],
   "source": [
    "np.arange(1,13).reshape(2,6)"
   ]
  },
  {
   "cell_type": "code",
   "execution_count": 30,
   "id": "9be0b70a-d968-4851-823d-0a21f67eac5b",
   "metadata": {},
   "outputs": [
    {
     "data": {
      "text/plain": [
       "array([[ 1,  2],\n",
       "       [ 3,  4],\n",
       "       [ 5,  6],\n",
       "       [ 7,  8],\n",
       "       [ 9, 10],\n",
       "       [11, 12]])"
      ]
     },
     "execution_count": 30,
     "metadata": {},
     "output_type": "execute_result"
    }
   ],
   "source": [
    "np.arange(1,13).reshape(6,2)"
   ]
  },
  {
   "cell_type": "markdown",
   "id": "5033163f-f221-42b2-b521-0b8450287790",
   "metadata": {},
   "source": [
    "# np.ones and np.zeros"
   ]
  },
  {
   "cell_type": "code",
   "execution_count": 31,
   "id": "8d03efb9-463b-4197-831d-4d9703f66f48",
   "metadata": {},
   "outputs": [
    {
     "data": {
      "text/plain": [
       "array([[1., 1., 1., 1.],\n",
       "       [1., 1., 1., 1.],\n",
       "       [1., 1., 1., 1.]])"
      ]
     },
     "execution_count": 31,
     "metadata": {},
     "output_type": "execute_result"
    }
   ],
   "source": [
    "np.ones((3,4))"
   ]
  },
  {
   "cell_type": "code",
   "execution_count": 32,
   "id": "d6b3827f-953c-455e-84f0-cb774b0ad2d6",
   "metadata": {},
   "outputs": [
    {
     "data": {
      "text/plain": [
       "array([[0., 0., 0., 0.],\n",
       "       [0., 0., 0., 0.],\n",
       "       [0., 0., 0., 0.]])"
      ]
     },
     "execution_count": 32,
     "metadata": {},
     "output_type": "execute_result"
    }
   ],
   "source": [
    "np.zeros((3,4))"
   ]
  },
  {
   "cell_type": "markdown",
   "id": "9af402fe-55b1-4fc9-b891-492fed9c310d",
   "metadata": {},
   "source": [
    "# np.random"
   ]
  },
  {
   "cell_type": "code",
   "execution_count": 33,
   "id": "47d4f0a5-fae8-499d-9aba-d0a5aac1f6b8",
   "metadata": {},
   "outputs": [
    {
     "data": {
      "text/plain": [
       "array([[0.55821381, 0.65263519, 0.64463125, 0.48903858],\n",
       "       [0.80791696, 0.06742922, 0.62455095, 0.91822892],\n",
       "       [0.79982165, 0.29698444, 0.97571748, 0.27480905]])"
      ]
     },
     "execution_count": 33,
     "metadata": {},
     "output_type": "execute_result"
    }
   ],
   "source": [
    "np.random.random((3,4))"
   ]
  },
  {
   "cell_type": "code",
   "execution_count": 34,
   "id": "f6a00373-b234-4afb-93e9-0dd7c8fe365a",
   "metadata": {},
   "outputs": [
    {
     "data": {
      "text/plain": [
       "array([[0.67107235, 0.47223793, 0.25571682, 0.42492896, 0.92960132,\n",
       "        0.12764816],\n",
       "       [0.25470085, 0.74456718, 0.72713112, 0.53126936, 0.08118171,\n",
       "        0.24317504],\n",
       "       [0.05540217, 0.19699378, 0.99405643, 0.32006084, 0.39970374,\n",
       "        0.76199247],\n",
       "       [0.11716598, 0.93231081, 0.48114851, 0.54070749, 0.41386862,\n",
       "        0.22983809]])"
      ]
     },
     "execution_count": 34,
     "metadata": {},
     "output_type": "execute_result"
    }
   ],
   "source": [
    "np.random.random((4,6))"
   ]
  },
  {
   "cell_type": "code",
   "execution_count": 35,
   "id": "39e30098-0a5b-4090-8146-92b97efbdb1d",
   "metadata": {},
   "outputs": [
    {
     "data": {
      "text/plain": [
       "array([[0.55512809, 0.90860349, 0.00801184],\n",
       "       [0.9840721 , 0.2235002 , 0.54513879],\n",
       "       [0.27103544, 0.16917639, 0.19096921]])"
      ]
     },
     "execution_count": 35,
     "metadata": {},
     "output_type": "execute_result"
    }
   ],
   "source": [
    "np.random.random((3,3))"
   ]
  },
  {
   "cell_type": "markdown",
   "id": "841bb4e0-fec3-4b45-a315-d09550570f36",
   "metadata": {},
   "source": [
    "# np.linspace"
   ]
  },
  {
   "cell_type": "code",
   "execution_count": 36,
   "id": "8b824aaa-756f-4b25-8993-e57b7512af40",
   "metadata": {},
   "outputs": [
    {
     "data": {
      "text/plain": [
       "array([-10.        ,  -7.77777778,  -5.55555556,  -3.33333333,\n",
       "        -1.11111111,   1.11111111,   3.33333333,   5.55555556,\n",
       "         7.77777778,  10.        ])"
      ]
     },
     "execution_count": 36,
     "metadata": {},
     "output_type": "execute_result"
    }
   ],
   "source": [
    "np.linspace(-10,10,10)"
   ]
  },
  {
   "cell_type": "code",
   "execution_count": 37,
   "id": "78c9fe30-5687-4809-9b09-f61767029a76",
   "metadata": {},
   "outputs": [
    {
     "data": {
      "text/plain": [
       "array([ 1.,  2.,  3.,  4.,  5.,  6.,  7.,  8.,  9., 10.])"
      ]
     },
     "execution_count": 37,
     "metadata": {},
     "output_type": "execute_result"
    }
   ],
   "source": [
    "np.linspace(1,10,10)"
   ]
  },
  {
   "cell_type": "code",
   "execution_count": 38,
   "id": "f411c8aa-5def-4409-8fa2-0eb858b97c69",
   "metadata": {},
   "outputs": [
    {
     "data": {
      "text/plain": [
       "array([1.        , 1.44444444, 1.88888889, 2.33333333, 2.77777778,\n",
       "       3.22222222, 3.66666667, 4.11111111, 4.55555556, 5.        ])"
      ]
     },
     "execution_count": 38,
     "metadata": {},
     "output_type": "execute_result"
    }
   ],
   "source": [
    "np.linspace(1,5,10)"
   ]
  },
  {
   "cell_type": "markdown",
   "id": "0b29aac3-52c6-420e-8152-668961d7399b",
   "metadata": {},
   "source": [
    "# np.identity"
   ]
  },
  {
   "cell_type": "code",
   "execution_count": 40,
   "id": "a1f409b2-bc52-41d9-9455-9839a154d471",
   "metadata": {},
   "outputs": [
    {
     "data": {
      "text/plain": [
       "array([[1., 0., 0.],\n",
       "       [0., 1., 0.],\n",
       "       [0., 0., 1.]])"
      ]
     },
     "execution_count": 40,
     "metadata": {},
     "output_type": "execute_result"
    }
   ],
   "source": [
    "np.identity(3)"
   ]
  },
  {
   "cell_type": "code",
   "execution_count": 41,
   "id": "0b18e8f6-54ba-4446-ad70-e0feb3637cf9",
   "metadata": {},
   "outputs": [
    {
     "data": {
      "text/plain": [
       "array([[1., 0., 0., 0., 0.],\n",
       "       [0., 1., 0., 0., 0.],\n",
       "       [0., 0., 1., 0., 0.],\n",
       "       [0., 0., 0., 1., 0.],\n",
       "       [0., 0., 0., 0., 1.]])"
      ]
     },
     "execution_count": 41,
     "metadata": {},
     "output_type": "execute_result"
    }
   ],
   "source": [
    "np.identity(5)"
   ]
  },
  {
   "cell_type": "code",
   "execution_count": 43,
   "id": "9fe16f0d-ff56-45ea-80f1-50316567ec9a",
   "metadata": {},
   "outputs": [
    {
     "data": {
      "text/plain": [
       "array([[1, 0, 0, 0],\n",
       "       [0, 1, 0, 0],\n",
       "       [0, 0, 1, 0],\n",
       "       [0, 0, 0, 1]])"
      ]
     },
     "execution_count": 43,
     "metadata": {},
     "output_type": "execute_result"
    }
   ],
   "source": [
    "np.identity(4,dtype=int)"
   ]
  },
  {
   "cell_type": "markdown",
   "id": "7d308d8d-b8eb-4e44-86c0-0efd99e77f2b",
   "metadata": {},
   "source": [
    "# Array Attributes"
   ]
  },
  {
   "cell_type": "code",
   "execution_count": 44,
   "id": "fcd4e868-21c5-4575-b643-c15f443e9eab",
   "metadata": {},
   "outputs": [],
   "source": [
    "a1=np.arange(10)"
   ]
  },
  {
   "cell_type": "code",
   "execution_count": 45,
   "id": "0f72dbfa-824f-4aa5-969e-086b50c87047",
   "metadata": {},
   "outputs": [
    {
     "data": {
      "text/plain": [
       "array([0, 1, 2, 3, 4, 5, 6, 7, 8, 9])"
      ]
     },
     "execution_count": 45,
     "metadata": {},
     "output_type": "execute_result"
    }
   ],
   "source": [
    "a1"
   ]
  },
  {
   "cell_type": "code",
   "execution_count": 47,
   "id": "0b4a693b-7988-4bf1-a091-733216b09e58",
   "metadata": {},
   "outputs": [],
   "source": [
    "a2=np.arange(12,dtype=float).reshape(3,4)"
   ]
  },
  {
   "cell_type": "code",
   "execution_count": 48,
   "id": "22f7d9a0-61df-436c-8a86-d35c4cc94674",
   "metadata": {},
   "outputs": [
    {
     "data": {
      "text/plain": [
       "array([[ 0.,  1.,  2.,  3.],\n",
       "       [ 4.,  5.,  6.,  7.],\n",
       "       [ 8.,  9., 10., 11.]])"
      ]
     },
     "execution_count": 48,
     "metadata": {},
     "output_type": "execute_result"
    }
   ],
   "source": [
    "a2"
   ]
  },
  {
   "cell_type": "code",
   "execution_count": 49,
   "id": "7967387c-61db-41ef-b23a-7f2d85c96e2f",
   "metadata": {},
   "outputs": [],
   "source": [
    "a3=np.arange(8).reshape(2,2,2)"
   ]
  },
  {
   "cell_type": "code",
   "execution_count": 50,
   "id": "1b4ecc68-abbc-4c94-8631-c695ce831876",
   "metadata": {},
   "outputs": [
    {
     "data": {
      "text/plain": [
       "array([[[0, 1],\n",
       "        [2, 3]],\n",
       "\n",
       "       [[4, 5],\n",
       "        [6, 7]]])"
      ]
     },
     "execution_count": 50,
     "metadata": {},
     "output_type": "execute_result"
    }
   ],
   "source": [
    "a3"
   ]
  },
  {
   "cell_type": "markdown",
   "id": "1c2ab348-051f-430e-b428-6879bf8df686",
   "metadata": {},
   "source": [
    "# 1.ndim"
   ]
  },
  {
   "cell_type": "code",
   "execution_count": 52,
   "id": "0b770b6e-539a-4be7-8e71-7f560f68bc2e",
   "metadata": {},
   "outputs": [
    {
     "data": {
      "text/plain": [
       "1"
      ]
     },
     "execution_count": 52,
     "metadata": {},
     "output_type": "execute_result"
    }
   ],
   "source": [
    "a1.ndim"
   ]
  },
  {
   "cell_type": "code",
   "execution_count": 53,
   "id": "6ed40b2d-5bf3-4953-a04b-e06724b2edd5",
   "metadata": {},
   "outputs": [
    {
     "data": {
      "text/plain": [
       "2"
      ]
     },
     "execution_count": 53,
     "metadata": {},
     "output_type": "execute_result"
    }
   ],
   "source": [
    "a2.ndim"
   ]
  },
  {
   "cell_type": "code",
   "execution_count": 54,
   "id": "23643abc-899c-4cbe-8d00-68e9e321311a",
   "metadata": {},
   "outputs": [
    {
     "data": {
      "text/plain": [
       "3"
      ]
     },
     "execution_count": 54,
     "metadata": {},
     "output_type": "execute_result"
    }
   ],
   "source": [
    "a3.ndim"
   ]
  },
  {
   "cell_type": "markdown",
   "id": "94feeb0f-9f1c-41cf-9537-bff2c319fdaa",
   "metadata": {},
   "source": [
    "# 2.shape"
   ]
  },
  {
   "cell_type": "code",
   "execution_count": 55,
   "id": "8c671455-0222-4b33-96d6-63276221a8f1",
   "metadata": {},
   "outputs": [
    {
     "data": {
      "text/plain": [
       "(10,)"
      ]
     },
     "execution_count": 55,
     "metadata": {},
     "output_type": "execute_result"
    }
   ],
   "source": [
    "a1.shape"
   ]
  },
  {
   "cell_type": "code",
   "execution_count": 56,
   "id": "481009e6-b93b-4b24-9739-af059db1df76",
   "metadata": {},
   "outputs": [
    {
     "data": {
      "text/plain": [
       "(3, 4)"
      ]
     },
     "execution_count": 56,
     "metadata": {},
     "output_type": "execute_result"
    }
   ],
   "source": [
    "a2.shape"
   ]
  },
  {
   "cell_type": "code",
   "execution_count": 57,
   "id": "b96c6b0b-bff2-496b-8cc3-cd1085af4942",
   "metadata": {},
   "outputs": [
    {
     "data": {
      "text/plain": [
       "(2, 2, 2)"
      ]
     },
     "execution_count": 57,
     "metadata": {},
     "output_type": "execute_result"
    }
   ],
   "source": [
    "a3.shape"
   ]
  },
  {
   "cell_type": "markdown",
   "id": "706c431b-c41b-48ed-b7e3-8333d5d7b76a",
   "metadata": {},
   "source": [
    "# 3.size"
   ]
  },
  {
   "cell_type": "code",
   "execution_count": 58,
   "id": "e68c319c-7abb-4df5-9a06-971ffc81e4df",
   "metadata": {},
   "outputs": [
    {
     "data": {
      "text/plain": [
       "10"
      ]
     },
     "execution_count": 58,
     "metadata": {},
     "output_type": "execute_result"
    }
   ],
   "source": [
    "a1.size"
   ]
  },
  {
   "cell_type": "code",
   "execution_count": 59,
   "id": "73d077b1-aaf2-4b2e-a6d6-aa34949ccec7",
   "metadata": {},
   "outputs": [
    {
     "data": {
      "text/plain": [
       "12"
      ]
     },
     "execution_count": 59,
     "metadata": {},
     "output_type": "execute_result"
    }
   ],
   "source": [
    "a2.size"
   ]
  },
  {
   "cell_type": "code",
   "execution_count": 60,
   "id": "71820cc5-f315-41be-a8bc-bde32ed06b4a",
   "metadata": {},
   "outputs": [
    {
     "data": {
      "text/plain": [
       "8"
      ]
     },
     "execution_count": 60,
     "metadata": {},
     "output_type": "execute_result"
    }
   ],
   "source": [
    "a3.size"
   ]
  },
  {
   "cell_type": "markdown",
   "id": "41034881-e536-4d78-9503-08b169f4a4d5",
   "metadata": {},
   "source": [
    "# 4.itemsize"
   ]
  },
  {
   "cell_type": "code",
   "execution_count": 61,
   "id": "eca44ed7-d6d0-47e7-ab66-ca7514c7424a",
   "metadata": {},
   "outputs": [
    {
     "data": {
      "text/plain": [
       "4"
      ]
     },
     "execution_count": 61,
     "metadata": {},
     "output_type": "execute_result"
    }
   ],
   "source": [
    "a1.itemsize"
   ]
  },
  {
   "cell_type": "code",
   "execution_count": 62,
   "id": "7aab7503-ae04-4257-8640-48f293b0715d",
   "metadata": {},
   "outputs": [
    {
     "data": {
      "text/plain": [
       "8"
      ]
     },
     "execution_count": 62,
     "metadata": {},
     "output_type": "execute_result"
    }
   ],
   "source": [
    "a2.itemsize"
   ]
  },
  {
   "cell_type": "code",
   "execution_count": 63,
   "id": "9681ff10-e640-4b23-abe3-c682d5a0954b",
   "metadata": {},
   "outputs": [
    {
     "data": {
      "text/plain": [
       "4"
      ]
     },
     "execution_count": 63,
     "metadata": {},
     "output_type": "execute_result"
    }
   ],
   "source": [
    "a3.itemsize"
   ]
  },
  {
   "cell_type": "markdown",
   "id": "cf565054-e21c-4ae8-8f8a-7247d7334521",
   "metadata": {},
   "source": [
    "# 5.dtype"
   ]
  },
  {
   "cell_type": "code",
   "execution_count": 64,
   "id": "c762fccc-a2a4-490e-b7bb-67df5d21894c",
   "metadata": {},
   "outputs": [
    {
     "data": {
      "text/plain": [
       "dtype('int32')"
      ]
     },
     "execution_count": 64,
     "metadata": {},
     "output_type": "execute_result"
    }
   ],
   "source": [
    "a1.dtype"
   ]
  },
  {
   "cell_type": "code",
   "execution_count": 65,
   "id": "795aa3c7-c445-4499-9f9d-8420fbd61142",
   "metadata": {},
   "outputs": [
    {
     "data": {
      "text/plain": [
       "dtype('float64')"
      ]
     },
     "execution_count": 65,
     "metadata": {},
     "output_type": "execute_result"
    }
   ],
   "source": [
    "a2.dtype"
   ]
  },
  {
   "cell_type": "code",
   "execution_count": 66,
   "id": "489ceeaf-9277-4a98-8e97-c37ed25ec38b",
   "metadata": {},
   "outputs": [
    {
     "data": {
      "text/plain": [
       "dtype('int32')"
      ]
     },
     "execution_count": 66,
     "metadata": {},
     "output_type": "execute_result"
    }
   ],
   "source": [
    "a3.dtype"
   ]
  },
  {
   "cell_type": "markdown",
   "id": "5cb71fb9-744a-4d7c-bc73-6fabc9500b08",
   "metadata": {},
   "source": [
    "# Changing Datatype"
   ]
  },
  {
   "cell_type": "markdown",
   "id": "afd808c7-0a3f-481f-acd9-9b9e165c8035",
   "metadata": {},
   "source": [
    "# 1.astype()"
   ]
  },
  {
   "cell_type": "code",
   "execution_count": 67,
   "id": "2cd5fee3-05ad-4a97-9f91-28e7f2ef396d",
   "metadata": {},
   "outputs": [
    {
     "data": {
      "text/plain": [
       "array([[ 0,  1,  2,  3],\n",
       "       [ 4,  5,  6,  7],\n",
       "       [ 8,  9, 10, 11]])"
      ]
     },
     "execution_count": 67,
     "metadata": {},
     "output_type": "execute_result"
    }
   ],
   "source": [
    "a2.astype(np.int32)"
   ]
  },
  {
   "cell_type": "code",
   "execution_count": 68,
   "id": "286103fd-5fd7-47ba-b226-acf468ef4d00",
   "metadata": {},
   "outputs": [
    {
     "data": {
      "text/plain": [
       "array([0., 1., 2., 3., 4., 5., 6., 7., 8., 9.])"
      ]
     },
     "execution_count": 68,
     "metadata": {},
     "output_type": "execute_result"
    }
   ],
   "source": [
    "a1.astype(np.float64)"
   ]
  },
  {
   "cell_type": "code",
   "execution_count": 69,
   "id": "3d8e9f0f-6528-4bbb-955d-c4a8c763b34f",
   "metadata": {},
   "outputs": [
    {
     "data": {
      "text/plain": [
       "array([[[0., 1.],\n",
       "        [2., 3.]],\n",
       "\n",
       "       [[4., 5.],\n",
       "        [6., 7.]]])"
      ]
     },
     "execution_count": 69,
     "metadata": {},
     "output_type": "execute_result"
    }
   ],
   "source": [
    "a3.astype(np.float64)"
   ]
  },
  {
   "cell_type": "code",
   "execution_count": 70,
   "id": "dd5b1a62-ce1a-440f-a57b-180deec41f38",
   "metadata": {},
   "outputs": [],
   "source": [
    "#generally we use this function to save the memory like float64 change in int32"
   ]
  },
  {
   "cell_type": "markdown",
   "id": "445c07bc-62f2-4746-9db8-ae1f774c6133",
   "metadata": {},
   "source": [
    "# Array Operations"
   ]
  },
  {
   "cell_type": "code",
   "execution_count": 71,
   "id": "6d933424-d538-4939-b106-25e81bc95cbe",
   "metadata": {},
   "outputs": [],
   "source": [
    "b1=np.arange(12).reshape(3,4)"
   ]
  },
  {
   "cell_type": "code",
   "execution_count": 72,
   "id": "576fb6cb-ca36-42d2-9281-53c39dc70ee2",
   "metadata": {},
   "outputs": [
    {
     "data": {
      "text/plain": [
       "array([[ 0,  1,  2,  3],\n",
       "       [ 4,  5,  6,  7],\n",
       "       [ 8,  9, 10, 11]])"
      ]
     },
     "execution_count": 72,
     "metadata": {},
     "output_type": "execute_result"
    }
   ],
   "source": [
    "b1"
   ]
  },
  {
   "cell_type": "code",
   "execution_count": 73,
   "id": "5cd1ae95-8e64-4129-8876-d2bea515a6dd",
   "metadata": {},
   "outputs": [],
   "source": [
    "b2=np.arange(12,24).reshape(3,4)"
   ]
  },
  {
   "cell_type": "code",
   "execution_count": 74,
   "id": "a1248846-8171-466b-bb40-7a738d6a591e",
   "metadata": {},
   "outputs": [
    {
     "data": {
      "text/plain": [
       "array([[12, 13, 14, 15],\n",
       "       [16, 17, 18, 19],\n",
       "       [20, 21, 22, 23]])"
      ]
     },
     "execution_count": 74,
     "metadata": {},
     "output_type": "execute_result"
    }
   ],
   "source": [
    "b2"
   ]
  },
  {
   "cell_type": "markdown",
   "id": "eed137ed-dfdc-4e7e-a9bc-044350470ae7",
   "metadata": {},
   "source": [
    "# (A) Scalar Operations"
   ]
  },
  {
   "cell_type": "markdown",
   "id": "2361d154-b54a-4611-a875-391355b010f2",
   "metadata": {},
   "source": [
    "# 1.Airthmetic Operation"
   ]
  },
  {
   "cell_type": "code",
   "execution_count": 75,
   "id": "f70a2ae5-5a94-4534-b259-55b83ed72bc1",
   "metadata": {},
   "outputs": [
    {
     "data": {
      "text/plain": [
       "array([[ 2,  3,  4,  5],\n",
       "       [ 6,  7,  8,  9],\n",
       "       [10, 11, 12, 13]])"
      ]
     },
     "execution_count": 75,
     "metadata": {},
     "output_type": "execute_result"
    }
   ],
   "source": [
    "b1+2"
   ]
  },
  {
   "cell_type": "code",
   "execution_count": 76,
   "id": "8fef9546-403f-418c-8183-7bf67a476102",
   "metadata": {},
   "outputs": [
    {
     "data": {
      "text/plain": [
       "array([[-2, -1,  0,  1],\n",
       "       [ 2,  3,  4,  5],\n",
       "       [ 6,  7,  8,  9]])"
      ]
     },
     "execution_count": 76,
     "metadata": {},
     "output_type": "execute_result"
    }
   ],
   "source": [
    "b1-2"
   ]
  },
  {
   "cell_type": "code",
   "execution_count": 77,
   "id": "4c5cf457-fba2-4f35-a5c4-c78324ea61ff",
   "metadata": {},
   "outputs": [
    {
     "data": {
      "text/plain": [
       "array([[ 0,  2,  4,  6],\n",
       "       [ 8, 10, 12, 14],\n",
       "       [16, 18, 20, 22]])"
      ]
     },
     "execution_count": 77,
     "metadata": {},
     "output_type": "execute_result"
    }
   ],
   "source": [
    "b1*2"
   ]
  },
  {
   "cell_type": "code",
   "execution_count": 78,
   "id": "c03be0da-05b0-4968-a7b4-9f3cfded0c1f",
   "metadata": {},
   "outputs": [
    {
     "data": {
      "text/plain": [
       "array([[0. , 0.5, 1. , 1.5],\n",
       "       [2. , 2.5, 3. , 3.5],\n",
       "       [4. , 4.5, 5. , 5.5]])"
      ]
     },
     "execution_count": 78,
     "metadata": {},
     "output_type": "execute_result"
    }
   ],
   "source": [
    "b1/2"
   ]
  },
  {
   "cell_type": "code",
   "execution_count": 79,
   "id": "9423a48a-e44d-4dee-88e9-5057a3ed256f",
   "metadata": {},
   "outputs": [
    {
     "data": {
      "text/plain": [
       "array([[  0,   1,   4,   9],\n",
       "       [ 16,  25,  36,  49],\n",
       "       [ 64,  81, 100, 121]])"
      ]
     },
     "execution_count": 79,
     "metadata": {},
     "output_type": "execute_result"
    }
   ],
   "source": [
    "b1**2"
   ]
  },
  {
   "cell_type": "markdown",
   "id": "0f6c71e1-8d90-4d79-94e7-92a6eefd4171",
   "metadata": {},
   "source": [
    "# 2.Relational Operator"
   ]
  },
  {
   "cell_type": "code",
   "execution_count": 84,
   "id": "e770dd12-8ed0-415f-b71c-8890bc198d9c",
   "metadata": {},
   "outputs": [
    {
     "data": {
      "text/plain": [
       "array([[False, False, False, False],\n",
       "       [False, False, False, False],\n",
       "       [ True,  True,  True,  True]])"
      ]
     },
     "execution_count": 84,
     "metadata": {},
     "output_type": "execute_result"
    }
   ],
   "source": [
    "b2>19"
   ]
  },
  {
   "cell_type": "code",
   "execution_count": 85,
   "id": "31c6ebb5-7400-4f45-aee2-eae414ee5752",
   "metadata": {},
   "outputs": [
    {
     "data": {
      "text/plain": [
       "array([[ True,  True,  True,  True],\n",
       "       [ True,  True,  True,  True],\n",
       "       [ True,  True,  True,  True]])"
      ]
     },
     "execution_count": 85,
     "metadata": {},
     "output_type": "execute_result"
    }
   ],
   "source": [
    "b2>9"
   ]
  },
  {
   "cell_type": "code",
   "execution_count": 86,
   "id": "cac5aeb7-457f-482e-94ef-9a4c865ce4ae",
   "metadata": {},
   "outputs": [
    {
     "data": {
      "text/plain": [
       "array([[False, False, False, False],\n",
       "       [False, False, False, False],\n",
       "       [False, False, False, False]])"
      ]
     },
     "execution_count": 86,
     "metadata": {},
     "output_type": "execute_result"
    }
   ],
   "source": [
    "b2>25"
   ]
  },
  {
   "cell_type": "code",
   "execution_count": 87,
   "id": "2cacba6b-7192-4e67-99a6-ab583d013ee2",
   "metadata": {},
   "outputs": [
    {
     "data": {
      "text/plain": [
       "array([[False, False, False,  True],\n",
       "       [False, False, False, False],\n",
       "       [False, False, False, False]])"
      ]
     },
     "execution_count": 87,
     "metadata": {},
     "output_type": "execute_result"
    }
   ],
   "source": [
    "b2==15"
   ]
  },
  {
   "cell_type": "code",
   "execution_count": 88,
   "id": "21686bac-1daf-45a4-ba25-7c4db75f5ce0",
   "metadata": {},
   "outputs": [
    {
     "data": {
      "text/plain": [
       "array([[ True,  True,  True,  True],\n",
       "       [ True,  True, False, False],\n",
       "       [False, False, False, False]])"
      ]
     },
     "execution_count": 88,
     "metadata": {},
     "output_type": "execute_result"
    }
   ],
   "source": [
    "b2<18"
   ]
  },
  {
   "cell_type": "markdown",
   "id": "e52851fc-136e-4ad5-8672-22c36079e257",
   "metadata": {},
   "source": [
    "# (B).Vector Operations"
   ]
  },
  {
   "cell_type": "markdown",
   "id": "a5287732-6530-4906-a089-50823d80a633",
   "metadata": {},
   "source": [
    "# 1.Airthmetic Operation"
   ]
  },
  {
   "cell_type": "code",
   "execution_count": 89,
   "id": "0e849b0c-28ab-4b96-80ba-ed7b0688fba8",
   "metadata": {},
   "outputs": [
    {
     "data": {
      "text/plain": [
       "array([[12, 14, 16, 18],\n",
       "       [20, 22, 24, 26],\n",
       "       [28, 30, 32, 34]])"
      ]
     },
     "execution_count": 89,
     "metadata": {},
     "output_type": "execute_result"
    }
   ],
   "source": [
    "b1 + b2"
   ]
  },
  {
   "cell_type": "code",
   "execution_count": 90,
   "id": "ac56dc6c-3ecc-4446-a215-4bcbc7ba788d",
   "metadata": {},
   "outputs": [
    {
     "data": {
      "text/plain": [
       "array([[-12, -12, -12, -12],\n",
       "       [-12, -12, -12, -12],\n",
       "       [-12, -12, -12, -12]])"
      ]
     },
     "execution_count": 90,
     "metadata": {},
     "output_type": "execute_result"
    }
   ],
   "source": [
    "b1 - b2"
   ]
  },
  {
   "cell_type": "code",
   "execution_count": 91,
   "id": "052f6def-2574-4b7e-818a-e8289db404b5",
   "metadata": {},
   "outputs": [
    {
     "data": {
      "text/plain": [
       "array([[  0,  13,  28,  45],\n",
       "       [ 64,  85, 108, 133],\n",
       "       [160, 189, 220, 253]])"
      ]
     },
     "execution_count": 91,
     "metadata": {},
     "output_type": "execute_result"
    }
   ],
   "source": [
    "b1 * b2"
   ]
  },
  {
   "cell_type": "markdown",
   "id": "785af920-8dc3-47d3-927f-228af62314e5",
   "metadata": {},
   "source": [
    "# Array Functions"
   ]
  },
  {
   "cell_type": "code",
   "execution_count": 94,
   "id": "fa563470-2019-4ce4-960e-ce907eca4fcf",
   "metadata": {},
   "outputs": [],
   "source": [
    "c1=np.random.random((3,3))"
   ]
  },
  {
   "cell_type": "code",
   "execution_count": 96,
   "id": "bf7a2d5a-92ac-43d3-b681-47586a4d900a",
   "metadata": {},
   "outputs": [],
   "source": [
    "c1=np.round(c1*100)"
   ]
  },
  {
   "cell_type": "code",
   "execution_count": 97,
   "id": "27e4293a-ff30-4d2b-97a1-da6d49058a79",
   "metadata": {},
   "outputs": [
    {
     "data": {
      "text/plain": [
       "array([[46., 13., 36.],\n",
       "       [30., 32., 74.],\n",
       "       [61., 61., 21.]])"
      ]
     },
     "execution_count": 97,
     "metadata": {},
     "output_type": "execute_result"
    }
   ],
   "source": [
    "c1"
   ]
  },
  {
   "cell_type": "markdown",
   "id": "34193701-6f27-4171-892a-d90352b0e5a6",
   "metadata": {},
   "source": [
    "# 1. max/min/sum/prod"
   ]
  },
  {
   "cell_type": "code",
   "execution_count": 98,
   "id": "1f17f355-514d-41e7-87ef-10241a0e289b",
   "metadata": {},
   "outputs": [
    {
     "data": {
      "text/plain": [
       "74.0"
      ]
     },
     "execution_count": 98,
     "metadata": {},
     "output_type": "execute_result"
    }
   ],
   "source": [
    "np.max(c1)"
   ]
  },
  {
   "cell_type": "code",
   "execution_count": 99,
   "id": "6343e9f6-feeb-4739-bbdb-66d8f3d90c22",
   "metadata": {},
   "outputs": [
    {
     "data": {
      "text/plain": [
       "13.0"
      ]
     },
     "execution_count": 99,
     "metadata": {},
     "output_type": "execute_result"
    }
   ],
   "source": [
    "np.min(c1)"
   ]
  },
  {
   "cell_type": "code",
   "execution_count": 100,
   "id": "db203fff-0fa6-4852-89bb-a4dcbfdb9f6e",
   "metadata": {},
   "outputs": [
    {
     "data": {
      "text/plain": [
       "374.0"
      ]
     },
     "execution_count": 100,
     "metadata": {},
     "output_type": "execute_result"
    }
   ],
   "source": [
    "np.sum(c1)"
   ]
  },
  {
   "cell_type": "code",
   "execution_count": 101,
   "id": "8b377330-4a7c-4e74-b5ce-f7bdddfa2fd9",
   "metadata": {},
   "outputs": [
    {
     "data": {
      "text/plain": [
       "119504869585920.0"
      ]
     },
     "execution_count": 101,
     "metadata": {},
     "output_type": "execute_result"
    }
   ],
   "source": [
    "np.prod(c1)"
   ]
  },
  {
   "cell_type": "code",
   "execution_count": 102,
   "id": "faf519cc-3d2d-462c-9ddd-4508ff7ccf7b",
   "metadata": {},
   "outputs": [
    {
     "data": {
      "text/plain": [
       "array([61., 61., 74.])"
      ]
     },
     "execution_count": 102,
     "metadata": {},
     "output_type": "execute_result"
    }
   ],
   "source": [
    "np.max(c1,axis=0)"
   ]
  },
  {
   "cell_type": "code",
   "execution_count": 103,
   "id": "fe78992b-ca4e-46b3-875f-06b3fc417517",
   "metadata": {},
   "outputs": [
    {
     "data": {
      "text/plain": [
       "array([46., 74., 61.])"
      ]
     },
     "execution_count": 103,
     "metadata": {},
     "output_type": "execute_result"
    }
   ],
   "source": [
    "np.max(c1,axis=1)"
   ]
  },
  {
   "cell_type": "code",
   "execution_count": 104,
   "id": "e007d08e-7806-4bec-ac10-3baa95999fb1",
   "metadata": {},
   "outputs": [],
   "source": [
    "#axis=0-->column and axis=1-->row"
   ]
  },
  {
   "cell_type": "markdown",
   "id": "6a0946ca-e001-458f-baad-586a6789702a",
   "metadata": {},
   "source": [
    "# 2.mean/median/std/var"
   ]
  },
  {
   "cell_type": "code",
   "execution_count": 105,
   "id": "72bf45ec-8edc-46e0-a263-10fc6c9ddb67",
   "metadata": {},
   "outputs": [
    {
     "data": {
      "text/plain": [
       "41.55555555555556"
      ]
     },
     "execution_count": 105,
     "metadata": {},
     "output_type": "execute_result"
    }
   ],
   "source": [
    "np.mean(c1)"
   ]
  },
  {
   "cell_type": "code",
   "execution_count": 106,
   "id": "9d19f487-0068-4992-a3bc-561a96c1c2ee",
   "metadata": {},
   "outputs": [
    {
     "data": {
      "text/plain": [
       "36.0"
      ]
     },
     "execution_count": 106,
     "metadata": {},
     "output_type": "execute_result"
    }
   ],
   "source": [
    "np.median(c1)"
   ]
  },
  {
   "cell_type": "code",
   "execution_count": 107,
   "id": "11ca7bd9-06bc-4ac0-b250-2144fc1c38dc",
   "metadata": {},
   "outputs": [
    {
     "data": {
      "text/plain": [
       "19.21290718421176"
      ]
     },
     "execution_count": 107,
     "metadata": {},
     "output_type": "execute_result"
    }
   ],
   "source": [
    "np.std(c1)"
   ]
  },
  {
   "cell_type": "code",
   "execution_count": 108,
   "id": "9e84a7b7-c887-482a-b07d-a15b3f5bf6ca",
   "metadata": {},
   "outputs": [
    {
     "data": {
      "text/plain": [
       "369.13580246913585"
      ]
     },
     "execution_count": 108,
     "metadata": {},
     "output_type": "execute_result"
    }
   ],
   "source": [
    "np.var(c1)"
   ]
  },
  {
   "cell_type": "code",
   "execution_count": 109,
   "id": "02cada4d-10ec-4c77-9047-441b0809aa9d",
   "metadata": {},
   "outputs": [
    {
     "data": {
      "text/plain": [
       "array([46., 32., 36.])"
      ]
     },
     "execution_count": 109,
     "metadata": {},
     "output_type": "execute_result"
    }
   ],
   "source": [
    "np.median(c1,axis=0)"
   ]
  },
  {
   "cell_type": "code",
   "execution_count": 110,
   "id": "9fadba3d-5898-49ed-876a-525318586ec7",
   "metadata": {},
   "outputs": [
    {
     "data": {
      "text/plain": [
       "array([36., 32., 61.])"
      ]
     },
     "execution_count": 110,
     "metadata": {},
     "output_type": "execute_result"
    }
   ],
   "source": [
    "np.median(c1,axis=1)"
   ]
  },
  {
   "cell_type": "markdown",
   "id": "b48692c2-af32-4dd8-a8b5-e5b6896b04ad",
   "metadata": {},
   "source": [
    "# 3.Dot product"
   ]
  },
  {
   "cell_type": "code",
   "execution_count": 111,
   "id": "c905834d-9937-4f04-a685-e74fe2b10104",
   "metadata": {},
   "outputs": [],
   "source": [
    "d1=np.arange(12).reshape(3,4)"
   ]
  },
  {
   "cell_type": "code",
   "execution_count": 112,
   "id": "440af707-dc41-4382-8975-60e6448ef4c3",
   "metadata": {},
   "outputs": [
    {
     "data": {
      "text/plain": [
       "array([[ 0,  1,  2,  3],\n",
       "       [ 4,  5,  6,  7],\n",
       "       [ 8,  9, 10, 11]])"
      ]
     },
     "execution_count": 112,
     "metadata": {},
     "output_type": "execute_result"
    }
   ],
   "source": [
    "d1"
   ]
  },
  {
   "cell_type": "code",
   "execution_count": 113,
   "id": "ef3d7895-a060-4119-8590-8595de4aa4a2",
   "metadata": {},
   "outputs": [],
   "source": [
    "d2=np.arange(12,24).reshape(4,3)"
   ]
  },
  {
   "cell_type": "code",
   "execution_count": 114,
   "id": "3b00e5bb-349b-4555-9a33-951cf0eadff8",
   "metadata": {},
   "outputs": [
    {
     "data": {
      "text/plain": [
       "array([[12, 13, 14],\n",
       "       [15, 16, 17],\n",
       "       [18, 19, 20],\n",
       "       [21, 22, 23]])"
      ]
     },
     "execution_count": 114,
     "metadata": {},
     "output_type": "execute_result"
    }
   ],
   "source": [
    "d2"
   ]
  },
  {
   "cell_type": "code",
   "execution_count": 115,
   "id": "6693be26-95e4-496b-9703-76385ff4b78a",
   "metadata": {},
   "outputs": [
    {
     "data": {
      "text/plain": [
       "array([[114, 120, 126],\n",
       "       [378, 400, 422],\n",
       "       [642, 680, 718]])"
      ]
     },
     "execution_count": 115,
     "metadata": {},
     "output_type": "execute_result"
    }
   ],
   "source": [
    "np.dot(d1,d2)"
   ]
  },
  {
   "cell_type": "code",
   "execution_count": 116,
   "id": "b4a1ce05-0196-4bdb-9529-043de15e73fd",
   "metadata": {},
   "outputs": [
    {
     "data": {
      "text/plain": [
       "array([[164, 203, 242, 281],\n",
       "       [200, 248, 296, 344],\n",
       "       [236, 293, 350, 407],\n",
       "       [272, 338, 404, 470]])"
      ]
     },
     "execution_count": 116,
     "metadata": {},
     "output_type": "execute_result"
    }
   ],
   "source": [
    "np.dot(d2,d1)"
   ]
  },
  {
   "cell_type": "code",
   "execution_count": 117,
   "id": "db31ca9a-9aa0-488b-a558-03ee3170e702",
   "metadata": {},
   "outputs": [],
   "source": [
    "#for dot product # column of d1 =# row of d2"
   ]
  },
  {
   "cell_type": "markdown",
   "id": "9abe6e11-11b5-4b83-8968-9ac23454b977",
   "metadata": {},
   "source": [
    "# 4.log and exponents"
   ]
  },
  {
   "cell_type": "code",
   "execution_count": 119,
   "id": "6ceb3c2d-816f-4e2b-9957-06bc24cd16a2",
   "metadata": {},
   "outputs": [
    {
     "data": {
      "text/plain": [
       "array([[2.48490665, 2.56494936, 2.63905733],\n",
       "       [2.7080502 , 2.77258872, 2.83321334],\n",
       "       [2.89037176, 2.94443898, 2.99573227],\n",
       "       [3.04452244, 3.09104245, 3.13549422]])"
      ]
     },
     "execution_count": 119,
     "metadata": {},
     "output_type": "execute_result"
    }
   ],
   "source": [
    "np.log(d2)"
   ]
  },
  {
   "cell_type": "code",
   "execution_count": 121,
   "id": "be51bd2f-da4c-4c44-ac4f-f78e97845146",
   "metadata": {},
   "outputs": [
    {
     "data": {
      "text/plain": [
       "array([[1.00000000e+00, 2.71828183e+00, 7.38905610e+00, 2.00855369e+01],\n",
       "       [5.45981500e+01, 1.48413159e+02, 4.03428793e+02, 1.09663316e+03],\n",
       "       [2.98095799e+03, 8.10308393e+03, 2.20264658e+04, 5.98741417e+04]])"
      ]
     },
     "execution_count": 121,
     "metadata": {},
     "output_type": "execute_result"
    }
   ],
   "source": [
    "np.exp(d1)"
   ]
  },
  {
   "cell_type": "markdown",
   "id": "3da7dbe6-9b62-4f27-bcdd-8d996b3cdcea",
   "metadata": {},
   "source": [
    "# 5.round/floor/ceil"
   ]
  },
  {
   "cell_type": "code",
   "execution_count": 154,
   "id": "b7ac0393-ae7e-45a6-8b0f-54994d7abf7f",
   "metadata": {},
   "outputs": [],
   "source": [
    "e1=np.random.random((3,3))"
   ]
  },
  {
   "cell_type": "code",
   "execution_count": 155,
   "id": "3e2a5c06-e4a7-47f1-87fb-5e31c7173906",
   "metadata": {},
   "outputs": [
    {
     "data": {
      "text/plain": [
       "array([[0.93645873, 0.65456457, 0.2716915 ],\n",
       "       [0.79674606, 0.36584489, 0.76118343],\n",
       "       [0.42479372, 0.62053156, 0.21064608]])"
      ]
     },
     "execution_count": 155,
     "metadata": {},
     "output_type": "execute_result"
    }
   ],
   "source": [
    "e1"
   ]
  },
  {
   "cell_type": "code",
   "execution_count": 151,
   "id": "d31b6464-2774-456a-94ba-06cad740bcc7",
   "metadata": {},
   "outputs": [
    {
     "data": {
      "text/plain": [
       "array([[0.88149006, 0.35909272, 0.12593008],\n",
       "       [0.3958664 , 0.27082039, 0.63529801]])"
      ]
     },
     "execution_count": 151,
     "metadata": {},
     "output_type": "execute_result"
    }
   ],
   "source": [
    "np.random.random((2,3))"
   ]
  },
  {
   "cell_type": "code",
   "execution_count": 152,
   "id": "e87a93c6-2281-48cd-b667-fb488cf11e4f",
   "metadata": {},
   "outputs": [
    {
     "data": {
      "text/plain": [
       "array([[12., 68., 54.],\n",
       "       [76., 81.,  6.]])"
      ]
     },
     "execution_count": 152,
     "metadata": {},
     "output_type": "execute_result"
    }
   ],
   "source": [
    "np.round(np.random.random((2,3))*100)"
   ]
  },
  {
   "cell_type": "code",
   "execution_count": 136,
   "id": "fb449237-a97f-415b-9866-2c958644b916",
   "metadata": {},
   "outputs": [
    {
     "data": {
      "text/plain": [
       "array([[ 7., 62., 65.],\n",
       "       [ 8., 36., 22.]])"
      ]
     },
     "execution_count": 136,
     "metadata": {},
     "output_type": "execute_result"
    }
   ],
   "source": [
    "np.floor(np.random.random((2,3))*100)"
   ]
  },
  {
   "cell_type": "code",
   "execution_count": 137,
   "id": "ebcb1cfc-238a-42c1-a3a2-396085572b81",
   "metadata": {},
   "outputs": [
    {
     "data": {
      "text/plain": [
       "array([[27., 18., 28.],\n",
       "       [92., 25., 46.]])"
      ]
     },
     "execution_count": 137,
     "metadata": {},
     "output_type": "execute_result"
    }
   ],
   "source": [
    "np.ceil(np.random.random((2,3))*100)"
   ]
  },
  {
   "cell_type": "code",
   "execution_count": 156,
   "id": "696c086e-4389-4793-9c12-a737648ba074",
   "metadata": {},
   "outputs": [],
   "source": [
    "e1=np.round(e1*100)"
   ]
  },
  {
   "cell_type": "code",
   "execution_count": 160,
   "id": "374be4e1-e932-480a-9450-a21503fed49b",
   "metadata": {},
   "outputs": [
    {
     "data": {
      "text/plain": [
       "array([[94., 65., 27.],\n",
       "       [80., 37., 76.],\n",
       "       [42., 62., 21.]])"
      ]
     },
     "execution_count": 160,
     "metadata": {},
     "output_type": "execute_result"
    }
   ],
   "source": [
    "e1"
   ]
  },
  {
   "cell_type": "code",
   "execution_count": 161,
   "id": "9959ac40-6d36-4641-bacf-cb4c4a32ff74",
   "metadata": {},
   "outputs": [],
   "source": [
    "#round-->convert into nearest integer\n",
    "#floor-->convert 6.2 in 6 ,6.9 in 6\n",
    "#ceil--> convert 6.2 in 7,7.9 in 8"
   ]
  },
  {
   "cell_type": "code",
   "execution_count": 162,
   "id": "21b1e1ed-d8e5-450f-9409-b97a91b1e200",
   "metadata": {},
   "outputs": [],
   "source": [
    "l=np.array([[1.1,2.2,3.3],[4.4,5.5,6.6],[7.7,8.8,9.9]])"
   ]
  },
  {
   "cell_type": "code",
   "execution_count": 163,
   "id": "35c1a83a-5774-4de3-9484-143b073efaac",
   "metadata": {},
   "outputs": [
    {
     "data": {
      "text/plain": [
       "array([[ 1.,  2.,  3.],\n",
       "       [ 4.,  6.,  7.],\n",
       "       [ 8.,  9., 10.]])"
      ]
     },
     "execution_count": 163,
     "metadata": {},
     "output_type": "execute_result"
    }
   ],
   "source": [
    "np.round(l)"
   ]
  },
  {
   "cell_type": "code",
   "execution_count": 164,
   "id": "3dbd1069-6adf-4109-88ea-ea1ff18e8082",
   "metadata": {},
   "outputs": [
    {
     "data": {
      "text/plain": [
       "array([[1., 2., 3.],\n",
       "       [4., 5., 6.],\n",
       "       [7., 8., 9.]])"
      ]
     },
     "execution_count": 164,
     "metadata": {},
     "output_type": "execute_result"
    }
   ],
   "source": [
    "np.floor(l)"
   ]
  },
  {
   "cell_type": "code",
   "execution_count": 165,
   "id": "e39943a5-d527-4ae9-b32d-3ba610206c3b",
   "metadata": {},
   "outputs": [
    {
     "data": {
      "text/plain": [
       "array([[ 2.,  3.,  4.],\n",
       "       [ 5.,  6.,  7.],\n",
       "       [ 8.,  9., 10.]])"
      ]
     },
     "execution_count": 165,
     "metadata": {},
     "output_type": "execute_result"
    }
   ],
   "source": [
    "np.ceil(l)"
   ]
  },
  {
   "cell_type": "markdown",
   "id": "e919b1f6-4926-4a8f-9ab5-f8c83888e545",
   "metadata": {},
   "source": [
    "# Indexing and slicing"
   ]
  },
  {
   "cell_type": "code",
   "execution_count": 166,
   "id": "d6800815-1ac2-45ff-b70e-d5a9170fa56f",
   "metadata": {},
   "outputs": [],
   "source": [
    "f1=np.arange(10)"
   ]
  },
  {
   "cell_type": "code",
   "execution_count": 167,
   "id": "bd9431c1-a841-4171-9ab2-11e0a108e7e0",
   "metadata": {},
   "outputs": [
    {
     "data": {
      "text/plain": [
       "array([0, 1, 2, 3, 4, 5, 6, 7, 8, 9])"
      ]
     },
     "execution_count": 167,
     "metadata": {},
     "output_type": "execute_result"
    }
   ],
   "source": [
    "f1"
   ]
  },
  {
   "cell_type": "code",
   "execution_count": 168,
   "id": "395ed6f3-5876-43d4-a21c-79c3d13ddb09",
   "metadata": {},
   "outputs": [],
   "source": [
    "f2=np.arange(12).reshape(3,4)"
   ]
  },
  {
   "cell_type": "code",
   "execution_count": 169,
   "id": "d87ef4e9-f783-461c-8ac7-f606c4d6044c",
   "metadata": {},
   "outputs": [
    {
     "data": {
      "text/plain": [
       "array([[ 0,  1,  2,  3],\n",
       "       [ 4,  5,  6,  7],\n",
       "       [ 8,  9, 10, 11]])"
      ]
     },
     "execution_count": 169,
     "metadata": {},
     "output_type": "execute_result"
    }
   ],
   "source": [
    "f2"
   ]
  },
  {
   "cell_type": "code",
   "execution_count": 170,
   "id": "02b52961-a487-4294-af57-2accac28ce6b",
   "metadata": {},
   "outputs": [],
   "source": [
    "f3=np.arange(8).reshape(2,2,2)"
   ]
  },
  {
   "cell_type": "code",
   "execution_count": 171,
   "id": "cbbd77ba-6952-4eae-bd41-bb8eeb5886fe",
   "metadata": {},
   "outputs": [
    {
     "data": {
      "text/plain": [
       "array([[[0, 1],\n",
       "        [2, 3]],\n",
       "\n",
       "       [[4, 5],\n",
       "        [6, 7]]])"
      ]
     },
     "execution_count": 171,
     "metadata": {},
     "output_type": "execute_result"
    }
   ],
   "source": [
    "f3"
   ]
  },
  {
   "cell_type": "code",
   "execution_count": 172,
   "id": "72cac078-6e85-42c8-ba32-c4aa8b62d30b",
   "metadata": {},
   "outputs": [
    {
     "data": {
      "text/plain": [
       "array([0, 1, 2, 3, 4, 5, 6, 7, 8, 9])"
      ]
     },
     "execution_count": 172,
     "metadata": {},
     "output_type": "execute_result"
    }
   ],
   "source": [
    "f1"
   ]
  },
  {
   "cell_type": "code",
   "execution_count": 173,
   "id": "a693745c-71e0-42f9-a7d6-cbd9bbef2118",
   "metadata": {},
   "outputs": [
    {
     "data": {
      "text/plain": [
       "9"
      ]
     },
     "execution_count": 173,
     "metadata": {},
     "output_type": "execute_result"
    }
   ],
   "source": [
    "f1[-1]"
   ]
  },
  {
   "cell_type": "code",
   "execution_count": 174,
   "id": "7154b7ac-d052-468b-b384-0bb539ec9426",
   "metadata": {},
   "outputs": [
    {
     "data": {
      "text/plain": [
       "0"
      ]
     },
     "execution_count": 174,
     "metadata": {},
     "output_type": "execute_result"
    }
   ],
   "source": [
    "f1[0]"
   ]
  },
  {
   "cell_type": "code",
   "execution_count": 175,
   "id": "9d24e294-af88-44c8-8357-351eaf593e6c",
   "metadata": {},
   "outputs": [
    {
     "data": {
      "text/plain": [
       "array([[ 0,  1,  2,  3],\n",
       "       [ 4,  5,  6,  7],\n",
       "       [ 8,  9, 10, 11]])"
      ]
     },
     "execution_count": 175,
     "metadata": {},
     "output_type": "execute_result"
    }
   ],
   "source": [
    "f2"
   ]
  },
  {
   "cell_type": "code",
   "execution_count": 176,
   "id": "c1f2aa8f-ce46-4333-89d8-8fb5009759d5",
   "metadata": {},
   "outputs": [
    {
     "data": {
      "text/plain": [
       "6"
      ]
     },
     "execution_count": 176,
     "metadata": {},
     "output_type": "execute_result"
    }
   ],
   "source": [
    "f2[1,2]"
   ]
  },
  {
   "cell_type": "code",
   "execution_count": 177,
   "id": "37cccec5-f964-40b8-83a1-5cde61103f1c",
   "metadata": {},
   "outputs": [
    {
     "data": {
      "text/plain": [
       "11"
      ]
     },
     "execution_count": 177,
     "metadata": {},
     "output_type": "execute_result"
    }
   ],
   "source": [
    "f2[2,3]"
   ]
  },
  {
   "cell_type": "code",
   "execution_count": 185,
   "id": "329b6c21-2388-45f3-bf5d-1bcde781f12d",
   "metadata": {},
   "outputs": [
    {
     "data": {
      "text/plain": [
       "4"
      ]
     },
     "execution_count": 185,
     "metadata": {},
     "output_type": "execute_result"
    }
   ],
   "source": [
    "f2[1,0]\n",
    "#f2[rpw,column]"
   ]
  },
  {
   "cell_type": "code",
   "execution_count": 179,
   "id": "a59dfe4f-460a-478b-a1a7-9ceaaddde26b",
   "metadata": {},
   "outputs": [
    {
     "data": {
      "text/plain": [
       "array([[[0, 1],\n",
       "        [2, 3]],\n",
       "\n",
       "       [[4, 5],\n",
       "        [6, 7]]])"
      ]
     },
     "execution_count": 179,
     "metadata": {},
     "output_type": "execute_result"
    }
   ],
   "source": [
    "f3"
   ]
  },
  {
   "cell_type": "code",
   "execution_count": 180,
   "id": "33610fc9-7040-4b99-8750-3e3dc1c708f9",
   "metadata": {},
   "outputs": [
    {
     "data": {
      "text/plain": [
       "5"
      ]
     },
     "execution_count": 180,
     "metadata": {},
     "output_type": "execute_result"
    }
   ],
   "source": [
    "f3[1,0,1]"
   ]
  },
  {
   "cell_type": "code",
   "execution_count": 181,
   "id": "00bf5965-6b39-4678-9ba9-c57664581f47",
   "metadata": {},
   "outputs": [
    {
     "data": {
      "text/plain": [
       "2"
      ]
     },
     "execution_count": 181,
     "metadata": {},
     "output_type": "execute_result"
    }
   ],
   "source": [
    "f3[0,1,0]"
   ]
  },
  {
   "cell_type": "code",
   "execution_count": 182,
   "id": "dbe1783c-35b4-4c67-85d0-d14ed4bd9ede",
   "metadata": {},
   "outputs": [
    {
     "data": {
      "text/plain": [
       "0"
      ]
     },
     "execution_count": 182,
     "metadata": {},
     "output_type": "execute_result"
    }
   ],
   "source": [
    "f3[0,0,0]"
   ]
  },
  {
   "cell_type": "code",
   "execution_count": 183,
   "id": "e36cda63-4ab9-46a6-981e-b0a2f814113c",
   "metadata": {},
   "outputs": [],
   "source": [
    "#f3[array number,row,column]"
   ]
  },
  {
   "cell_type": "code",
   "execution_count": 186,
   "id": "1a4c955c-a99e-4e4a-b157-e6e843957dfd",
   "metadata": {},
   "outputs": [
    {
     "data": {
      "text/plain": [
       "6"
      ]
     },
     "execution_count": 186,
     "metadata": {},
     "output_type": "execute_result"
    }
   ],
   "source": [
    "f3[1,1,0]"
   ]
  },
  {
   "cell_type": "code",
   "execution_count": 187,
   "id": "0c422f58-1aa2-4a39-98b4-bd1ad28fdaab",
   "metadata": {},
   "outputs": [],
   "source": [
    "#Slicing"
   ]
  },
  {
   "cell_type": "code",
   "execution_count": 188,
   "id": "ad75cfdb-7a42-40b2-b895-d9948ffbc607",
   "metadata": {},
   "outputs": [
    {
     "data": {
      "text/plain": [
       "array([0, 1, 2, 3, 4, 5, 6, 7, 8, 9])"
      ]
     },
     "execution_count": 188,
     "metadata": {},
     "output_type": "execute_result"
    }
   ],
   "source": [
    "f1"
   ]
  },
  {
   "cell_type": "code",
   "execution_count": 189,
   "id": "3cdef996-9699-4416-9054-b6e38e9cb375",
   "metadata": {},
   "outputs": [
    {
     "data": {
      "text/plain": [
       "array([2, 3, 4])"
      ]
     },
     "execution_count": 189,
     "metadata": {},
     "output_type": "execute_result"
    }
   ],
   "source": [
    "f1[2:5]"
   ]
  },
  {
   "cell_type": "code",
   "execution_count": 190,
   "id": "8498193f-7103-4ceb-9e4c-16306ab7bf37",
   "metadata": {},
   "outputs": [
    {
     "data": {
      "text/plain": [
       "array([[ 0,  1,  2,  3],\n",
       "       [ 4,  5,  6,  7],\n",
       "       [ 8,  9, 10, 11]])"
      ]
     },
     "execution_count": 190,
     "metadata": {},
     "output_type": "execute_result"
    }
   ],
   "source": [
    "f2"
   ]
  },
  {
   "cell_type": "code",
   "execution_count": 192,
   "id": "a34d4973-4a38-4706-a16c-24dc891f33a0",
   "metadata": {},
   "outputs": [
    {
     "data": {
      "text/plain": [
       "array([0, 1, 2, 3])"
      ]
     },
     "execution_count": 192,
     "metadata": {},
     "output_type": "execute_result"
    }
   ],
   "source": [
    "f2[0,:]"
   ]
  },
  {
   "cell_type": "code",
   "execution_count": 193,
   "id": "48910577-4973-45ee-bd26-87c1fb592df6",
   "metadata": {},
   "outputs": [
    {
     "data": {
      "text/plain": [
       "array([ 2,  6, 10])"
      ]
     },
     "execution_count": 193,
     "metadata": {},
     "output_type": "execute_result"
    }
   ],
   "source": [
    "f2[:,2]"
   ]
  },
  {
   "cell_type": "code",
   "execution_count": 195,
   "id": "89e231b7-b778-4951-9914-de0314d160c5",
   "metadata": {},
   "outputs": [
    {
     "data": {
      "text/plain": [
       "array([[ 5,  6],\n",
       "       [ 9, 10]])"
      ]
     },
     "execution_count": 195,
     "metadata": {},
     "output_type": "execute_result"
    }
   ],
   "source": [
    "f2[1:,1:3]"
   ]
  },
  {
   "cell_type": "code",
   "execution_count": 196,
   "id": "0a7810b6-13ce-4e81-9173-51b4821a37e1",
   "metadata": {},
   "outputs": [
    {
     "data": {
      "text/plain": [
       "array([[ 0,  3],\n",
       "       [ 8, 11]])"
      ]
     },
     "execution_count": 196,
     "metadata": {},
     "output_type": "execute_result"
    }
   ],
   "source": [
    "f2[::2,::3]"
   ]
  },
  {
   "cell_type": "code",
   "execution_count": 198,
   "id": "67459083-0ec1-412b-9ff5-98cd546a0c8b",
   "metadata": {},
   "outputs": [
    {
     "data": {
      "text/plain": [
       "array([[ 1,  3],\n",
       "       [ 9, 11]])"
      ]
     },
     "execution_count": 198,
     "metadata": {},
     "output_type": "execute_result"
    }
   ],
   "source": [
    "f2[::2,1::2]"
   ]
  },
  {
   "cell_type": "code",
   "execution_count": 199,
   "id": "3ce2845d-ff91-4da3-a0f5-abe0e20f841a",
   "metadata": {},
   "outputs": [
    {
     "data": {
      "text/plain": [
       "array([4, 7])"
      ]
     },
     "execution_count": 199,
     "metadata": {},
     "output_type": "execute_result"
    }
   ],
   "source": [
    "f2[1,0::3]"
   ]
  },
  {
   "cell_type": "code",
   "execution_count": 207,
   "id": "72e7acd7-c1bd-4854-b835-53bf9cd0a2a1",
   "metadata": {},
   "outputs": [
    {
     "data": {
      "text/plain": [
       "array([[1, 2, 3],\n",
       "       [5, 6, 7]])"
      ]
     },
     "execution_count": 207,
     "metadata": {},
     "output_type": "execute_result"
    }
   ],
   "source": [
    "f2[:2,1:]"
   ]
  },
  {
   "cell_type": "code",
   "execution_count": 209,
   "id": "ff743d5f-6691-4c3e-a66c-4203c7ab0c2e",
   "metadata": {},
   "outputs": [],
   "source": [
    "f4=np.arange(27).reshape(3,3,3)"
   ]
  },
  {
   "cell_type": "code",
   "execution_count": 210,
   "id": "42690fe4-f2e9-4a51-857d-d892476b7f8c",
   "metadata": {},
   "outputs": [
    {
     "data": {
      "text/plain": [
       "array([[[ 0,  1,  2],\n",
       "        [ 3,  4,  5],\n",
       "        [ 6,  7,  8]],\n",
       "\n",
       "       [[ 9, 10, 11],\n",
       "        [12, 13, 14],\n",
       "        [15, 16, 17]],\n",
       "\n",
       "       [[18, 19, 20],\n",
       "        [21, 22, 23],\n",
       "        [24, 25, 26]]])"
      ]
     },
     "execution_count": 210,
     "metadata": {},
     "output_type": "execute_result"
    }
   ],
   "source": [
    "f4"
   ]
  },
  {
   "cell_type": "code",
   "execution_count": 211,
   "id": "d5896cee-bc77-448b-a818-5d707f8cad95",
   "metadata": {},
   "outputs": [
    {
     "data": {
      "text/plain": [
       "array([[ 9, 10, 11],\n",
       "       [12, 13, 14],\n",
       "       [15, 16, 17]])"
      ]
     },
     "execution_count": 211,
     "metadata": {},
     "output_type": "execute_result"
    }
   ],
   "source": [
    "f4[1]"
   ]
  },
  {
   "cell_type": "code",
   "execution_count": 212,
   "id": "61f67fb1-7fbf-41b4-98db-56b94d4e6557",
   "metadata": {},
   "outputs": [
    {
     "data": {
      "text/plain": [
       "array([[[ 0,  1,  2],\n",
       "        [ 3,  4,  5],\n",
       "        [ 6,  7,  8]],\n",
       "\n",
       "       [[18, 19, 20],\n",
       "        [21, 22, 23],\n",
       "        [24, 25, 26]]])"
      ]
     },
     "execution_count": 212,
     "metadata": {},
     "output_type": "execute_result"
    }
   ],
   "source": [
    "f4[::2]"
   ]
  },
  {
   "cell_type": "code",
   "execution_count": 213,
   "id": "a693f0ab-3fb1-4e18-a7c1-c0e32b8138e5",
   "metadata": {},
   "outputs": [
    {
     "data": {
      "text/plain": [
       "array([3, 4, 5])"
      ]
     },
     "execution_count": 213,
     "metadata": {},
     "output_type": "execute_result"
    }
   ],
   "source": [
    "f4[0,1]"
   ]
  },
  {
   "cell_type": "code",
   "execution_count": 214,
   "id": "d508ebff-2f4d-4e7c-b770-db6f8035f7cb",
   "metadata": {},
   "outputs": [
    {
     "data": {
      "text/plain": [
       "array([10, 13, 16])"
      ]
     },
     "execution_count": 214,
     "metadata": {},
     "output_type": "execute_result"
    }
   ],
   "source": [
    "f4[1,:,1]"
   ]
  },
  {
   "cell_type": "code",
   "execution_count": 215,
   "id": "58b2e2bc-4479-4b51-92f7-1e0a71a4be97",
   "metadata": {},
   "outputs": [
    {
     "data": {
      "text/plain": [
       "array([[22, 23],\n",
       "       [25, 26]])"
      ]
     },
     "execution_count": 215,
     "metadata": {},
     "output_type": "execute_result"
    }
   ],
   "source": [
    "f4[2,1:,1:]"
   ]
  },
  {
   "cell_type": "code",
   "execution_count": 220,
   "id": "090173fa-98aa-4495-860b-4aee61858fd8",
   "metadata": {},
   "outputs": [
    {
     "data": {
      "text/plain": [
       "array([[ 0,  2],\n",
       "       [18, 20]])"
      ]
     },
     "execution_count": 220,
     "metadata": {},
     "output_type": "execute_result"
    }
   ],
   "source": [
    "f4[::2,0,::2]"
   ]
  },
  {
   "cell_type": "markdown",
   "id": "11e7c91a-d3fa-46de-bb66-54edee1a4627",
   "metadata": {},
   "source": [
    "# Iterating"
   ]
  },
  {
   "cell_type": "code",
   "execution_count": 221,
   "id": "bd908a46-e5d6-4d75-8e1c-5dfd3b87e07d",
   "metadata": {},
   "outputs": [
    {
     "data": {
      "text/plain": [
       "array([0, 1, 2, 3, 4, 5, 6, 7, 8, 9])"
      ]
     },
     "execution_count": 221,
     "metadata": {},
     "output_type": "execute_result"
    }
   ],
   "source": [
    "f1"
   ]
  },
  {
   "cell_type": "code",
   "execution_count": 228,
   "id": "0bdae38c-aae5-48a7-a8a9-f25eb9fae77a",
   "metadata": {},
   "outputs": [
    {
     "name": "stdout",
     "output_type": "stream",
     "text": [
      "0\n",
      "1\n",
      "2\n",
      "3\n",
      "4\n",
      "5\n",
      "6\n",
      "7\n",
      "8\n",
      "9\n"
     ]
    }
   ],
   "source": [
    "for i in f1:\n",
    "    print(i)"
   ]
  },
  {
   "cell_type": "code",
   "execution_count": 229,
   "id": "316d0193-4a6f-4bac-b906-f0017c19c965",
   "metadata": {},
   "outputs": [
    {
     "data": {
      "text/plain": [
       "array([[ 0,  1,  2,  3],\n",
       "       [ 4,  5,  6,  7],\n",
       "       [ 8,  9, 10, 11]])"
      ]
     },
     "execution_count": 229,
     "metadata": {},
     "output_type": "execute_result"
    }
   ],
   "source": [
    "f2"
   ]
  },
  {
   "cell_type": "code",
   "execution_count": 230,
   "id": "f4252919-9b14-4392-8573-8c399cfc8873",
   "metadata": {},
   "outputs": [
    {
     "name": "stdout",
     "output_type": "stream",
     "text": [
      "[0 1 2 3]\n",
      "[4 5 6 7]\n",
      "[ 8  9 10 11]\n"
     ]
    }
   ],
   "source": [
    "for i in f2:\n",
    "    print(i)"
   ]
  },
  {
   "cell_type": "code",
   "execution_count": 233,
   "id": "325aa181-f1e1-4c47-ad6a-da1d2a9757fd",
   "metadata": {},
   "outputs": [
    {
     "data": {
      "text/plain": [
       "array([[[ 0,  1,  2],\n",
       "        [ 3,  4,  5],\n",
       "        [ 6,  7,  8]],\n",
       "\n",
       "       [[ 9, 10, 11],\n",
       "        [12, 13, 14],\n",
       "        [15, 16, 17]],\n",
       "\n",
       "       [[18, 19, 20],\n",
       "        [21, 22, 23],\n",
       "        [24, 25, 26]]])"
      ]
     },
     "execution_count": 233,
     "metadata": {},
     "output_type": "execute_result"
    }
   ],
   "source": [
    "f4"
   ]
  },
  {
   "cell_type": "code",
   "execution_count": 234,
   "id": "bce26748-7a08-436a-b614-cf22b9cdfc6f",
   "metadata": {},
   "outputs": [
    {
     "name": "stdout",
     "output_type": "stream",
     "text": [
      "[[0 1 2]\n",
      " [3 4 5]\n",
      " [6 7 8]]\n",
      "[[ 9 10 11]\n",
      " [12 13 14]\n",
      " [15 16 17]]\n",
      "[[18 19 20]\n",
      " [21 22 23]\n",
      " [24 25 26]]\n"
     ]
    }
   ],
   "source": [
    "for i in f4:\n",
    "    print(i)"
   ]
  },
  {
   "cell_type": "code",
   "execution_count": 235,
   "id": "5a8a5925-a618-49fc-9727-2aead65649fd",
   "metadata": {},
   "outputs": [
    {
     "name": "stdout",
     "output_type": "stream",
     "text": [
      "0\n",
      "1\n",
      "2\n",
      "3\n",
      "4\n",
      "5\n",
      "6\n",
      "7\n",
      "8\n",
      "9\n",
      "10\n",
      "11\n",
      "12\n",
      "13\n",
      "14\n",
      "15\n",
      "16\n",
      "17\n",
      "18\n",
      "19\n",
      "20\n",
      "21\n",
      "22\n",
      "23\n",
      "24\n",
      "25\n",
      "26\n"
     ]
    }
   ],
   "source": [
    "for i in np.nditer(f4):\n",
    "    print(i)"
   ]
  },
  {
   "cell_type": "code",
   "execution_count": 236,
   "id": "c6a12403-c13f-4819-bb84-28e241d620a2",
   "metadata": {},
   "outputs": [
    {
     "name": "stdout",
     "output_type": "stream",
     "text": [
      "0\n",
      "1\n",
      "2\n",
      "3\n",
      "4\n",
      "5\n",
      "6\n",
      "7\n",
      "8\n",
      "9\n",
      "10\n",
      "11\n"
     ]
    }
   ],
   "source": [
    "for i in np.nditer(f2):\n",
    "    print(i)"
   ]
  },
  {
   "cell_type": "markdown",
   "id": "cf6c6122-216c-43bd-a2f7-27e4f89a558f",
   "metadata": {},
   "source": [
    "# **Reshaping**"
   ]
  },
  {
   "cell_type": "markdown",
   "id": "f25adaf5-2910-4f9e-b2a7-023b820bca7f",
   "metadata": {},
   "source": [
    "# 1.Reshape"
   ]
  },
  {
   "cell_type": "code",
   "execution_count": 237,
   "id": "fba12eb6-2a43-4ca8-96d7-331c09d43ca0",
   "metadata": {},
   "outputs": [
    {
     "data": {
      "text/plain": [
       "array([0, 1, 2, 3, 4, 5, 6, 7, 8, 9])"
      ]
     },
     "execution_count": 237,
     "metadata": {},
     "output_type": "execute_result"
    }
   ],
   "source": [
    "f1"
   ]
  },
  {
   "cell_type": "code",
   "execution_count": 238,
   "id": "a551985e-1532-4db0-86aa-d889849a8df8",
   "metadata": {},
   "outputs": [
    {
     "data": {
      "text/plain": [
       "array([[0, 1, 2, 3, 4],\n",
       "       [5, 6, 7, 8, 9]])"
      ]
     },
     "execution_count": 238,
     "metadata": {},
     "output_type": "execute_result"
    }
   ],
   "source": [
    "f1.reshape(2,5)"
   ]
  },
  {
   "cell_type": "code",
   "execution_count": 239,
   "id": "e0cbe8d4-9cf1-45df-8f05-92a7d68bc511",
   "metadata": {},
   "outputs": [
    {
     "data": {
      "text/plain": [
       "array([[0, 1],\n",
       "       [2, 3],\n",
       "       [4, 5],\n",
       "       [6, 7],\n",
       "       [8, 9]])"
      ]
     },
     "execution_count": 239,
     "metadata": {},
     "output_type": "execute_result"
    }
   ],
   "source": [
    "f1.reshape(5,2)"
   ]
  },
  {
   "cell_type": "markdown",
   "id": "de22afb6-4efb-498b-ae09-870eec7e448b",
   "metadata": {},
   "source": [
    "# 2.Transpose"
   ]
  },
  {
   "cell_type": "code",
   "execution_count": 240,
   "id": "0e874b06-e859-4c27-a28a-01c39293714e",
   "metadata": {},
   "outputs": [
    {
     "data": {
      "text/plain": [
       "array([0, 1, 2, 3, 4, 5, 6, 7, 8, 9])"
      ]
     },
     "execution_count": 240,
     "metadata": {},
     "output_type": "execute_result"
    }
   ],
   "source": [
    "f1"
   ]
  },
  {
   "cell_type": "code",
   "execution_count": 246,
   "id": "9691c55c-9e67-46bc-8408-0314c7ec2309",
   "metadata": {},
   "outputs": [],
   "source": [
    "f1=f1.reshape(1,10)"
   ]
  },
  {
   "cell_type": "code",
   "execution_count": 247,
   "id": "542d60ff-d9b2-4411-a783-b00f941f6e63",
   "metadata": {},
   "outputs": [
    {
     "data": {
      "text/plain": [
       "array([[0],\n",
       "       [1],\n",
       "       [2],\n",
       "       [3],\n",
       "       [4],\n",
       "       [5],\n",
       "       [6],\n",
       "       [7],\n",
       "       [8],\n",
       "       [9]])"
      ]
     },
     "execution_count": 247,
     "metadata": {},
     "output_type": "execute_result"
    }
   ],
   "source": [
    "f1.T"
   ]
  },
  {
   "cell_type": "code",
   "execution_count": 244,
   "id": "3309e3d8-2b2a-4163-9727-6ed56da710db",
   "metadata": {},
   "outputs": [
    {
     "data": {
      "text/plain": [
       "array([[ 0,  1,  2,  3],\n",
       "       [ 4,  5,  6,  7],\n",
       "       [ 8,  9, 10, 11]])"
      ]
     },
     "execution_count": 244,
     "metadata": {},
     "output_type": "execute_result"
    }
   ],
   "source": [
    "f2"
   ]
  },
  {
   "cell_type": "code",
   "execution_count": 245,
   "id": "33bf3960-7b34-4dbb-b604-7a2b45566382",
   "metadata": {},
   "outputs": [
    {
     "data": {
      "text/plain": [
       "array([[ 0,  4,  8],\n",
       "       [ 1,  5,  9],\n",
       "       [ 2,  6, 10],\n",
       "       [ 3,  7, 11]])"
      ]
     },
     "execution_count": 245,
     "metadata": {},
     "output_type": "execute_result"
    }
   ],
   "source": [
    "f2.T"
   ]
  },
  {
   "cell_type": "markdown",
   "id": "6ce5069e-ce0d-4ba2-ac89-78b447bb2d58",
   "metadata": {},
   "source": [
    "# 3.ravel"
   ]
  },
  {
   "cell_type": "code",
   "execution_count": 249,
   "id": "d1e35dc8-1a8f-4615-b3e0-0283b593a8cd",
   "metadata": {},
   "outputs": [
    {
     "data": {
      "text/plain": [
       "array([0, 1, 2, 3, 4, 5, 6, 7, 8, 9])"
      ]
     },
     "execution_count": 249,
     "metadata": {},
     "output_type": "execute_result"
    }
   ],
   "source": [
    "f1.ravel()"
   ]
  },
  {
   "cell_type": "code",
   "execution_count": 250,
   "id": "f271d476-adfd-4a51-9ab7-df4861b6c63f",
   "metadata": {},
   "outputs": [
    {
     "data": {
      "text/plain": [
       "array([ 0,  1,  2,  3,  4,  5,  6,  7,  8,  9, 10, 11])"
      ]
     },
     "execution_count": 250,
     "metadata": {},
     "output_type": "execute_result"
    }
   ],
   "source": [
    "f2.ravel()"
   ]
  },
  {
   "cell_type": "code",
   "execution_count": 251,
   "id": "3ecd16db-faa0-493b-bf12-d8b909f70029",
   "metadata": {},
   "outputs": [
    {
     "data": {
      "text/plain": [
       "array([0, 1, 2, 3, 4, 5, 6, 7])"
      ]
     },
     "execution_count": 251,
     "metadata": {},
     "output_type": "execute_result"
    }
   ],
   "source": [
    "f3.ravel()"
   ]
  },
  {
   "cell_type": "code",
   "execution_count": 252,
   "id": "35e705ad-2504-4bb4-943a-cd73de48d445",
   "metadata": {},
   "outputs": [
    {
     "data": {
      "text/plain": [
       "array([ 0,  1,  2,  3,  4,  5,  6,  7,  8,  9, 10, 11, 12, 13, 14, 15, 16,\n",
       "       17, 18, 19, 20, 21, 22, 23, 24, 25, 26])"
      ]
     },
     "execution_count": 252,
     "metadata": {},
     "output_type": "execute_result"
    }
   ],
   "source": [
    "f4.ravel()"
   ]
  },
  {
   "cell_type": "markdown",
   "id": "e4e18672-cb80-4dd2-bddd-9e7da4002ec3",
   "metadata": {},
   "source": [
    "# Stacking"
   ]
  },
  {
   "cell_type": "markdown",
   "id": "6c58d68c-86d4-4829-bcf3-e13547c66f4c",
   "metadata": {},
   "source": [
    "# 1.Horizontal stacking"
   ]
  },
  {
   "cell_type": "code",
   "execution_count": 253,
   "id": "79b7fdce-89e8-41e2-b098-82c7bcddfa68",
   "metadata": {},
   "outputs": [],
   "source": [
    "g1=np.arange(12).reshape(3,4)"
   ]
  },
  {
   "cell_type": "code",
   "execution_count": 254,
   "id": "30e17e4b-2c26-430e-80de-1ebe931a24c2",
   "metadata": {},
   "outputs": [
    {
     "data": {
      "text/plain": [
       "array([[ 0,  1,  2,  3],\n",
       "       [ 4,  5,  6,  7],\n",
       "       [ 8,  9, 10, 11]])"
      ]
     },
     "execution_count": 254,
     "metadata": {},
     "output_type": "execute_result"
    }
   ],
   "source": [
    "g1"
   ]
  },
  {
   "cell_type": "code",
   "execution_count": 255,
   "id": "1189d757-4850-41ef-9ff3-23225c600be1",
   "metadata": {},
   "outputs": [],
   "source": [
    "g2=np.arange(12,24).reshape(3,4)"
   ]
  },
  {
   "cell_type": "code",
   "execution_count": 256,
   "id": "45dbf65b-bbe6-4025-8a27-4f695d65e2d8",
   "metadata": {},
   "outputs": [
    {
     "data": {
      "text/plain": [
       "array([[12, 13, 14, 15],\n",
       "       [16, 17, 18, 19],\n",
       "       [20, 21, 22, 23]])"
      ]
     },
     "execution_count": 256,
     "metadata": {},
     "output_type": "execute_result"
    }
   ],
   "source": [
    "g2"
   ]
  },
  {
   "cell_type": "code",
   "execution_count": 264,
   "id": "ab96e02b-4c99-4fa2-8b96-3fc1ba380c3e",
   "metadata": {},
   "outputs": [],
   "source": [
    "h1=np.hstack((g1,g2))"
   ]
  },
  {
   "cell_type": "code",
   "execution_count": 265,
   "id": "df48d271-1a77-4262-8ad1-f04e1191f1f6",
   "metadata": {},
   "outputs": [
    {
     "data": {
      "text/plain": [
       "array([[ 0,  1,  2,  3, 12, 13, 14, 15],\n",
       "       [ 4,  5,  6,  7, 16, 17, 18, 19],\n",
       "       [ 8,  9, 10, 11, 20, 21, 22, 23]])"
      ]
     },
     "execution_count": 265,
     "metadata": {},
     "output_type": "execute_result"
    }
   ],
   "source": [
    "h1"
   ]
  },
  {
   "cell_type": "code",
   "execution_count": 266,
   "id": "ce734d9a-7983-4b12-8ecf-88d201f0dbb2",
   "metadata": {},
   "outputs": [],
   "source": [
    "h2=np.hstack((g1,g2,g1,g2))"
   ]
  },
  {
   "cell_type": "code",
   "execution_count": 267,
   "id": "a9be609b-eebd-42c6-95d1-1bfd53476c8f",
   "metadata": {},
   "outputs": [
    {
     "data": {
      "text/plain": [
       "array([[ 0,  1,  2,  3, 12, 13, 14, 15,  0,  1,  2,  3, 12, 13, 14, 15],\n",
       "       [ 4,  5,  6,  7, 16, 17, 18, 19,  4,  5,  6,  7, 16, 17, 18, 19],\n",
       "       [ 8,  9, 10, 11, 20, 21, 22, 23,  8,  9, 10, 11, 20, 21, 22, 23]])"
      ]
     },
     "execution_count": 267,
     "metadata": {},
     "output_type": "execute_result"
    }
   ],
   "source": [
    "h2"
   ]
  },
  {
   "cell_type": "markdown",
   "id": "40e6b07a-f766-401f-b8c2-e1b0f54800d8",
   "metadata": {},
   "source": [
    "# 2.Vertical Stacking"
   ]
  },
  {
   "cell_type": "code",
   "execution_count": 268,
   "id": "e7132a6d-9021-4130-8949-abce7ac12e25",
   "metadata": {},
   "outputs": [],
   "source": [
    "h3=np.vstack((g1,g2))"
   ]
  },
  {
   "cell_type": "code",
   "execution_count": 269,
   "id": "94ae26e9-5400-487b-9f7a-8097ea5c2090",
   "metadata": {},
   "outputs": [
    {
     "data": {
      "text/plain": [
       "array([[ 0,  1,  2,  3],\n",
       "       [ 4,  5,  6,  7],\n",
       "       [ 8,  9, 10, 11],\n",
       "       [12, 13, 14, 15],\n",
       "       [16, 17, 18, 19],\n",
       "       [20, 21, 22, 23]])"
      ]
     },
     "execution_count": 269,
     "metadata": {},
     "output_type": "execute_result"
    }
   ],
   "source": [
    "h3"
   ]
  },
  {
   "cell_type": "code",
   "execution_count": 270,
   "id": "4b34e7f3-3a00-452d-a69c-2191e3032d2d",
   "metadata": {},
   "outputs": [],
   "source": [
    "h4=np.vstack((g1,g2,g1,g2))"
   ]
  },
  {
   "cell_type": "code",
   "execution_count": 271,
   "id": "4a598a94-7ac1-4c25-9e84-b5c5196315b2",
   "metadata": {},
   "outputs": [
    {
     "data": {
      "text/plain": [
       "array([[ 0,  1,  2,  3],\n",
       "       [ 4,  5,  6,  7],\n",
       "       [ 8,  9, 10, 11],\n",
       "       [12, 13, 14, 15],\n",
       "       [16, 17, 18, 19],\n",
       "       [20, 21, 22, 23],\n",
       "       [ 0,  1,  2,  3],\n",
       "       [ 4,  5,  6,  7],\n",
       "       [ 8,  9, 10, 11],\n",
       "       [12, 13, 14, 15],\n",
       "       [16, 17, 18, 19],\n",
       "       [20, 21, 22, 23]])"
      ]
     },
     "execution_count": 271,
     "metadata": {},
     "output_type": "execute_result"
    }
   ],
   "source": [
    "h4"
   ]
  },
  {
   "cell_type": "markdown",
   "id": "a6ef8be7-93be-4c67-8fac-6e91b5514d24",
   "metadata": {},
   "source": [
    "# Spliting"
   ]
  },
  {
   "cell_type": "markdown",
   "id": "334cb5b7-3a55-42f6-bc04-b75b989d8ebf",
   "metadata": {},
   "source": [
    "# 1.Horizontal Spliting"
   ]
  },
  {
   "cell_type": "code",
   "execution_count": 274,
   "id": "c23002fb-3976-4024-b510-f76e0341b403",
   "metadata": {},
   "outputs": [
    {
     "data": {
      "text/plain": [
       "[array([[ 0,  1,  2,  3],\n",
       "        [ 4,  5,  6,  7],\n",
       "        [ 8,  9, 10, 11]]),\n",
       " array([[12, 13, 14, 15],\n",
       "        [16, 17, 18, 19],\n",
       "        [20, 21, 22, 23]])]"
      ]
     },
     "execution_count": 274,
     "metadata": {},
     "output_type": "execute_result"
    }
   ],
   "source": [
    "np.hsplit(h1,2)"
   ]
  },
  {
   "cell_type": "code",
   "execution_count": 275,
   "id": "2d6032ad-108a-447a-8925-aeb5ea3fd9d1",
   "metadata": {},
   "outputs": [
    {
     "data": {
      "text/plain": [
       "[array([[ 0,  1,  2,  3],\n",
       "        [ 4,  5,  6,  7],\n",
       "        [ 8,  9, 10, 11]]),\n",
       " array([[12, 13, 14, 15],\n",
       "        [16, 17, 18, 19],\n",
       "        [20, 21, 22, 23]]),\n",
       " array([[ 0,  1,  2,  3],\n",
       "        [ 4,  5,  6,  7],\n",
       "        [ 8,  9, 10, 11]]),\n",
       " array([[12, 13, 14, 15],\n",
       "        [16, 17, 18, 19],\n",
       "        [20, 21, 22, 23]])]"
      ]
     },
     "execution_count": 275,
     "metadata": {},
     "output_type": "execute_result"
    }
   ],
   "source": [
    "np.hsplit(h2,4)"
   ]
  },
  {
   "cell_type": "code",
   "execution_count": 276,
   "id": "1379a8f2-888e-4533-b6c4-1dfd5f645d57",
   "metadata": {},
   "outputs": [
    {
     "data": {
      "text/plain": [
       "[array([[0, 1],\n",
       "        [4, 5],\n",
       "        [8, 9]]),\n",
       " array([[ 2,  3],\n",
       "        [ 6,  7],\n",
       "        [10, 11]]),\n",
       " array([[12, 13],\n",
       "        [16, 17],\n",
       "        [20, 21]]),\n",
       " array([[14, 15],\n",
       "        [18, 19],\n",
       "        [22, 23]])]"
      ]
     },
     "execution_count": 276,
     "metadata": {},
     "output_type": "execute_result"
    }
   ],
   "source": [
    "np.hsplit(h1,4)"
   ]
  },
  {
   "cell_type": "markdown",
   "id": "897a05d2-7efb-47c9-a1cf-690d7541f81a",
   "metadata": {},
   "source": [
    "# 2.Vertical spliting"
   ]
  },
  {
   "cell_type": "code",
   "execution_count": 277,
   "id": "245bb7f4-5828-4544-a503-9a1b27f9777a",
   "metadata": {},
   "outputs": [
    {
     "data": {
      "text/plain": [
       "[array([[ 0,  1,  2,  3],\n",
       "        [ 4,  5,  6,  7],\n",
       "        [ 8,  9, 10, 11]]),\n",
       " array([[12, 13, 14, 15],\n",
       "        [16, 17, 18, 19],\n",
       "        [20, 21, 22, 23]])]"
      ]
     },
     "execution_count": 277,
     "metadata": {},
     "output_type": "execute_result"
    }
   ],
   "source": [
    "np.vsplit(h3,2)"
   ]
  },
  {
   "cell_type": "code",
   "execution_count": 279,
   "id": "f7608e0d-852d-4270-8863-ed0628abf62e",
   "metadata": {},
   "outputs": [
    {
     "data": {
      "text/plain": [
       "[array([[ 0,  1,  2,  3],\n",
       "        [ 4,  5,  6,  7],\n",
       "        [ 8,  9, 10, 11]]),\n",
       " array([[12, 13, 14, 15],\n",
       "        [16, 17, 18, 19],\n",
       "        [20, 21, 22, 23]]),\n",
       " array([[ 0,  1,  2,  3],\n",
       "        [ 4,  5,  6,  7],\n",
       "        [ 8,  9, 10, 11]]),\n",
       " array([[12, 13, 14, 15],\n",
       "        [16, 17, 18, 19],\n",
       "        [20, 21, 22, 23]])]"
      ]
     },
     "execution_count": 279,
     "metadata": {},
     "output_type": "execute_result"
    }
   ],
   "source": [
    "np.vsplit(h4,4)"
   ]
  },
  {
   "cell_type": "code",
   "execution_count": null,
   "id": "f5d0008c-5345-47fe-851b-c649ba805952",
   "metadata": {},
   "outputs": [],
   "source": []
  }
 ],
 "metadata": {
  "kernelspec": {
   "display_name": "Python 3 (ipykernel)",
   "language": "python",
   "name": "python3"
  },
  "language_info": {
   "codemirror_mode": {
    "name": "ipython",
    "version": 3
   },
   "file_extension": ".py",
   "mimetype": "text/x-python",
   "name": "python",
   "nbconvert_exporter": "python",
   "pygments_lexer": "ipython3",
   "version": "3.11.5"
  },
  "widgets": {
   "application/vnd.jupyter.widget-state+json": {
    "state": {},
    "version_major": 2,
    "version_minor": 0
   }
  }
 },
 "nbformat": 4,
 "nbformat_minor": 5
}
